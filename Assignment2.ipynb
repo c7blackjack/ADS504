{
  "nbformat": 4,
  "nbformat_minor": 0,
  "metadata": {
    "colab": {
      "name": "Assignment2",
      "provenance": [],
      "collapsed_sections": []
    },
    "kernelspec": {
      "name": "python3",
      "display_name": "Python 3"
    },
    "language_info": {
      "name": "python"
    }
  },
  "cells": [
    {
      "cell_type": "code",
      "execution_count": null,
      "metadata": {
        "id": "6sjsKUThj2kQ"
      },
      "outputs": [],
      "source": [
        "from sklearn import preprocessing\n",
        "from sklearn.preprocessing import OrdinalEncoder\n",
        "from sklearn import preprocessing\n",
        "\n",
        "import os\n",
        "import numpy as np\n",
        "import pandas as pd\n",
        "from sklearn.model_selection import train_test_split\n",
        "from sklearn.tree import DecisionTreeClassifier\n",
        "from sklearn.metrics import confusion_matrix, accuracy_score\n",
        "from sklearn import tree\n",
        "import matplotlib.pyplot as plt\n",
        "import matplotlib.pylab as pylab\n",
        "\n",
        "import seaborn as sns; sns.set()\n",
        "\n",
        "%matplotlib inline"
      ]
    },
    {
      "cell_type": "markdown",
      "source": [
        "**Load and understand  Data**"
      ],
      "metadata": {
        "id": "UX3d-vtYmA-5"
      }
    },
    {
      "cell_type": "code",
      "source": [
        "shelter_df = pd.read_csv(\"/content/shelter_data.csv\")\n",
        "text_df = pd.read_csv(\"/content/text_data.csv\")\n",
        "audio_df = pd.read_csv(\"/content/audio_data.csv\")"
      ],
      "metadata": {
        "id": "Y5G0091el8_p"
      },
      "execution_count": null,
      "outputs": []
    },
    {
      "cell_type": "code",
      "source": [
        "shelter_df.head()"
      ],
      "metadata": {
        "id": "or-U5bInmZUx",
        "outputId": "89294961-d2a3-4c60-a3d3-89b62dafa1c9",
        "colab": {
          "base_uri": "https://localhost:8080/",
          "height": 444
        }
      },
      "execution_count": null,
      "outputs": [
        {
          "output_type": "execute_result",
          "data": {
            "text/plain": [
              "  AnimalID     Name             DateTime      OutcomeType OutcomeSubtype  \\\n",
              "0  A671945  Hambone  2014-02-12 18:22:00  Return_to_owner            NaN   \n",
              "1  A656520    Emily  2013-10-13 12:44:00       Euthanasia      Suffering   \n",
              "2  A686464   Pearce  2015-01-31 12:28:00         Adoption         Foster   \n",
              "3  A683430      NaN  2014-07-11 19:09:00         Transfer        Partner   \n",
              "4  A667013      NaN  2013-11-15 12:52:00         Transfer        Partner   \n",
              "\n",
              "  AnimalType SexuponOutcome AgeuponOutcome                        Breed  \\\n",
              "0        Dog  Neutered Male         1 year        Shetland Sheepdog Mix   \n",
              "1        Cat  Spayed Female         1 year       Domestic Shorthair Mix   \n",
              "2        Dog  Neutered Male        2 years                 Pit Bull Mix   \n",
              "3        Cat    Intact Male        3 weeks       Domestic Shorthair Mix   \n",
              "4        Dog  Neutered Male        2 years  Lhasa Apso/Miniature Poodle   \n",
              "\n",
              "         Color  \n",
              "0  Brown/White  \n",
              "1  Cream Tabby  \n",
              "2   Blue/White  \n",
              "3   Blue Cream  \n",
              "4          Tan  "
            ],
            "text/html": [
              "\n",
              "  <div id=\"df-9aacc2d3-2bd3-4be4-9dc3-f13b73997663\">\n",
              "    <div class=\"colab-df-container\">\n",
              "      <div>\n",
              "<style scoped>\n",
              "    .dataframe tbody tr th:only-of-type {\n",
              "        vertical-align: middle;\n",
              "    }\n",
              "\n",
              "    .dataframe tbody tr th {\n",
              "        vertical-align: top;\n",
              "    }\n",
              "\n",
              "    .dataframe thead th {\n",
              "        text-align: right;\n",
              "    }\n",
              "</style>\n",
              "<table border=\"1\" class=\"dataframe\">\n",
              "  <thead>\n",
              "    <tr style=\"text-align: right;\">\n",
              "      <th></th>\n",
              "      <th>AnimalID</th>\n",
              "      <th>Name</th>\n",
              "      <th>DateTime</th>\n",
              "      <th>OutcomeType</th>\n",
              "      <th>OutcomeSubtype</th>\n",
              "      <th>AnimalType</th>\n",
              "      <th>SexuponOutcome</th>\n",
              "      <th>AgeuponOutcome</th>\n",
              "      <th>Breed</th>\n",
              "      <th>Color</th>\n",
              "    </tr>\n",
              "  </thead>\n",
              "  <tbody>\n",
              "    <tr>\n",
              "      <th>0</th>\n",
              "      <td>A671945</td>\n",
              "      <td>Hambone</td>\n",
              "      <td>2014-02-12 18:22:00</td>\n",
              "      <td>Return_to_owner</td>\n",
              "      <td>NaN</td>\n",
              "      <td>Dog</td>\n",
              "      <td>Neutered Male</td>\n",
              "      <td>1 year</td>\n",
              "      <td>Shetland Sheepdog Mix</td>\n",
              "      <td>Brown/White</td>\n",
              "    </tr>\n",
              "    <tr>\n",
              "      <th>1</th>\n",
              "      <td>A656520</td>\n",
              "      <td>Emily</td>\n",
              "      <td>2013-10-13 12:44:00</td>\n",
              "      <td>Euthanasia</td>\n",
              "      <td>Suffering</td>\n",
              "      <td>Cat</td>\n",
              "      <td>Spayed Female</td>\n",
              "      <td>1 year</td>\n",
              "      <td>Domestic Shorthair Mix</td>\n",
              "      <td>Cream Tabby</td>\n",
              "    </tr>\n",
              "    <tr>\n",
              "      <th>2</th>\n",
              "      <td>A686464</td>\n",
              "      <td>Pearce</td>\n",
              "      <td>2015-01-31 12:28:00</td>\n",
              "      <td>Adoption</td>\n",
              "      <td>Foster</td>\n",
              "      <td>Dog</td>\n",
              "      <td>Neutered Male</td>\n",
              "      <td>2 years</td>\n",
              "      <td>Pit Bull Mix</td>\n",
              "      <td>Blue/White</td>\n",
              "    </tr>\n",
              "    <tr>\n",
              "      <th>3</th>\n",
              "      <td>A683430</td>\n",
              "      <td>NaN</td>\n",
              "      <td>2014-07-11 19:09:00</td>\n",
              "      <td>Transfer</td>\n",
              "      <td>Partner</td>\n",
              "      <td>Cat</td>\n",
              "      <td>Intact Male</td>\n",
              "      <td>3 weeks</td>\n",
              "      <td>Domestic Shorthair Mix</td>\n",
              "      <td>Blue Cream</td>\n",
              "    </tr>\n",
              "    <tr>\n",
              "      <th>4</th>\n",
              "      <td>A667013</td>\n",
              "      <td>NaN</td>\n",
              "      <td>2013-11-15 12:52:00</td>\n",
              "      <td>Transfer</td>\n",
              "      <td>Partner</td>\n",
              "      <td>Dog</td>\n",
              "      <td>Neutered Male</td>\n",
              "      <td>2 years</td>\n",
              "      <td>Lhasa Apso/Miniature Poodle</td>\n",
              "      <td>Tan</td>\n",
              "    </tr>\n",
              "  </tbody>\n",
              "</table>\n",
              "</div>\n",
              "      <button class=\"colab-df-convert\" onclick=\"convertToInteractive('df-9aacc2d3-2bd3-4be4-9dc3-f13b73997663')\"\n",
              "              title=\"Convert this dataframe to an interactive table.\"\n",
              "              style=\"display:none;\">\n",
              "        \n",
              "  <svg xmlns=\"http://www.w3.org/2000/svg\" height=\"24px\"viewBox=\"0 0 24 24\"\n",
              "       width=\"24px\">\n",
              "    <path d=\"M0 0h24v24H0V0z\" fill=\"none\"/>\n",
              "    <path d=\"M18.56 5.44l.94 2.06.94-2.06 2.06-.94-2.06-.94-.94-2.06-.94 2.06-2.06.94zm-11 1L8.5 8.5l.94-2.06 2.06-.94-2.06-.94L8.5 2.5l-.94 2.06-2.06.94zm10 10l.94 2.06.94-2.06 2.06-.94-2.06-.94-.94-2.06-.94 2.06-2.06.94z\"/><path d=\"M17.41 7.96l-1.37-1.37c-.4-.4-.92-.59-1.43-.59-.52 0-1.04.2-1.43.59L10.3 9.45l-7.72 7.72c-.78.78-.78 2.05 0 2.83L4 21.41c.39.39.9.59 1.41.59.51 0 1.02-.2 1.41-.59l7.78-7.78 2.81-2.81c.8-.78.8-2.07 0-2.86zM5.41 20L4 18.59l7.72-7.72 1.47 1.35L5.41 20z\"/>\n",
              "  </svg>\n",
              "      </button>\n",
              "      \n",
              "  <style>\n",
              "    .colab-df-container {\n",
              "      display:flex;\n",
              "      flex-wrap:wrap;\n",
              "      gap: 12px;\n",
              "    }\n",
              "\n",
              "    .colab-df-convert {\n",
              "      background-color: #E8F0FE;\n",
              "      border: none;\n",
              "      border-radius: 50%;\n",
              "      cursor: pointer;\n",
              "      display: none;\n",
              "      fill: #1967D2;\n",
              "      height: 32px;\n",
              "      padding: 0 0 0 0;\n",
              "      width: 32px;\n",
              "    }\n",
              "\n",
              "    .colab-df-convert:hover {\n",
              "      background-color: #E2EBFA;\n",
              "      box-shadow: 0px 1px 2px rgba(60, 64, 67, 0.3), 0px 1px 3px 1px rgba(60, 64, 67, 0.15);\n",
              "      fill: #174EA6;\n",
              "    }\n",
              "\n",
              "    [theme=dark] .colab-df-convert {\n",
              "      background-color: #3B4455;\n",
              "      fill: #D2E3FC;\n",
              "    }\n",
              "\n",
              "    [theme=dark] .colab-df-convert:hover {\n",
              "      background-color: #434B5C;\n",
              "      box-shadow: 0px 1px 3px 1px rgba(0, 0, 0, 0.15);\n",
              "      filter: drop-shadow(0px 1px 2px rgba(0, 0, 0, 0.3));\n",
              "      fill: #FFFFFF;\n",
              "    }\n",
              "  </style>\n",
              "\n",
              "      <script>\n",
              "        const buttonEl =\n",
              "          document.querySelector('#df-9aacc2d3-2bd3-4be4-9dc3-f13b73997663 button.colab-df-convert');\n",
              "        buttonEl.style.display =\n",
              "          google.colab.kernel.accessAllowed ? 'block' : 'none';\n",
              "\n",
              "        async function convertToInteractive(key) {\n",
              "          const element = document.querySelector('#df-9aacc2d3-2bd3-4be4-9dc3-f13b73997663');\n",
              "          const dataTable =\n",
              "            await google.colab.kernel.invokeFunction('convertToInteractive',\n",
              "                                                     [key], {});\n",
              "          if (!dataTable) return;\n",
              "\n",
              "          const docLinkHtml = 'Like what you see? Visit the ' +\n",
              "            '<a target=\"_blank\" href=https://colab.research.google.com/notebooks/data_table.ipynb>data table notebook</a>'\n",
              "            + ' to learn more about interactive tables.';\n",
              "          element.innerHTML = '';\n",
              "          dataTable['output_type'] = 'display_data';\n",
              "          await google.colab.output.renderOutput(dataTable, element);\n",
              "          const docLink = document.createElement('div');\n",
              "          docLink.innerHTML = docLinkHtml;\n",
              "          element.appendChild(docLink);\n",
              "        }\n",
              "      </script>\n",
              "    </div>\n",
              "  </div>\n",
              "  "
            ]
          },
          "metadata": {},
          "execution_count": 3
        }
      ]
    },
    {
      "cell_type": "markdown",
      "source": [
        "# Preprocessing Steps\n",
        " - Drop NA's\n",
        " - Remove Unused Columns\n",
        " - Fit an Encoder\n",
        " - Split data into a train and test set at 50% each"
      ],
      "metadata": {
        "id": "74T48CdW5Kj-"
      }
    },
    {
      "cell_type": "code",
      "source": [
        "# this line drops any rows with missing data\n",
        "cleaned_data = shelter_df.dropna()\n",
        "# here we grab the data we want from pandas\n",
        "X_data = cleaned_data[['AnimalType','SexuponOutcome','AgeuponOutcome']]\n",
        "y_data = cleaned_data[['OutcomeType']]\n",
        "enc = OrdinalEncoder()\n",
        "enc.fit(X_data)\n",
        "le = preprocessing.LabelEncoder()\n",
        "le.fit(y_data)\n",
        "data_categorical = pd.DataFrame(enc.transform(X_data),\n",
        "columns=list(X_data))\n",
        "X=data_categorical\n",
        "y=le.transform(y_data)\n",
        "# Without changing the random state, divide your data into 50% for test and 50% for train\n",
        "X_train, X_test, y_train, y_test = train_test_split(X,y,train_size=0.50, random_state=42)"
      ],
      "metadata": {
        "id": "AGQXHYhTl9CW",
        "outputId": "8464079c-1577-47d6-b33c-6e1fca22ac1d",
        "colab": {
          "base_uri": "https://localhost:8080/"
        }
      },
      "execution_count": null,
      "outputs": [
        {
          "output_type": "stream",
          "name": "stderr",
          "text": [
            "/usr/local/lib/python3.7/dist-packages/sklearn/preprocessing/_label.py:98: DataConversionWarning: A column-vector y was passed when a 1d array was expected. Please change the shape of y to (n_samples, ), for example using ravel().\n",
            "  y = column_or_1d(y, warn=True)\n",
            "/usr/local/lib/python3.7/dist-packages/sklearn/preprocessing/_label.py:133: DataConversionWarning: A column-vector y was passed when a 1d array was expected. Please change the shape of y to (n_samples, ), for example using ravel().\n",
            "  y = column_or_1d(y, warn=True)\n"
          ]
        }
      ]
    },
    {
      "cell_type": "markdown",
      "source": [
        "## Base Decision Tree Classifier"
      ],
      "metadata": {
        "id": "WRuDk30Q5UeU"
      }
    },
    {
      "cell_type": "code",
      "source": [
        "#Apply the model here\n",
        "clf = DecisionTreeClassifier(random_state=42)\n",
        "clf = clf.fit(X_train, y_train)   #Fit on training data\n",
        "y_pred = clf.predict(X_test)\n",
        "print('accuracy %2.2f ' % accuracy_score(y_test,y_pred))"
      ],
      "metadata": {
        "id": "ziaMPq6Yl9FB",
        "outputId": "9d04d683-2774-417a-deb1-43d0f8ccc0cd",
        "colab": {
          "base_uri": "https://localhost:8080/"
        }
      },
      "execution_count": null,
      "outputs": [
        {
          "output_type": "stream",
          "name": "stdout",
          "text": [
            "accuracy 0.73 \n"
          ]
        }
      ]
    },
    {
      "cell_type": "code",
      "source": [
        "# Let's see the confusion matrix together\n",
        "cm = confusion_matrix(le.inverse_transform(y_test), le.inverse_transform(y_pred))\n",
        "labels=['Adoption', 'Died', 'Euthanasia', 'Transfer']\n",
        "test_results = pd.DataFrame(cm,index=labels,columns=labels)\n",
        "display(test_results)"
      ],
      "metadata": {
        "id": "OEunnLVQl9Hn",
        "outputId": "8e55873f-8592-4031-a1f5-9b060e32f2ad",
        "colab": {
          "base_uri": "https://localhost:8080/",
          "height": 175
        }
      },
      "execution_count": null,
      "outputs": [
        {
          "output_type": "display_data",
          "data": {
            "text/plain": [
              "            Adoption  Died  Euthanasia  Transfer\n",
              "Adoption         476     0          10       365\n",
              "Died               3     0           1        31\n",
              "Euthanasia        10     0          42       309\n",
              "Transfer         164     0          40      2039"
            ],
            "text/html": [
              "\n",
              "  <div id=\"df-fad101a8-ee1c-4798-982a-45b51f26bfcf\">\n",
              "    <div class=\"colab-df-container\">\n",
              "      <div>\n",
              "<style scoped>\n",
              "    .dataframe tbody tr th:only-of-type {\n",
              "        vertical-align: middle;\n",
              "    }\n",
              "\n",
              "    .dataframe tbody tr th {\n",
              "        vertical-align: top;\n",
              "    }\n",
              "\n",
              "    .dataframe thead th {\n",
              "        text-align: right;\n",
              "    }\n",
              "</style>\n",
              "<table border=\"1\" class=\"dataframe\">\n",
              "  <thead>\n",
              "    <tr style=\"text-align: right;\">\n",
              "      <th></th>\n",
              "      <th>Adoption</th>\n",
              "      <th>Died</th>\n",
              "      <th>Euthanasia</th>\n",
              "      <th>Transfer</th>\n",
              "    </tr>\n",
              "  </thead>\n",
              "  <tbody>\n",
              "    <tr>\n",
              "      <th>Adoption</th>\n",
              "      <td>476</td>\n",
              "      <td>0</td>\n",
              "      <td>10</td>\n",
              "      <td>365</td>\n",
              "    </tr>\n",
              "    <tr>\n",
              "      <th>Died</th>\n",
              "      <td>3</td>\n",
              "      <td>0</td>\n",
              "      <td>1</td>\n",
              "      <td>31</td>\n",
              "    </tr>\n",
              "    <tr>\n",
              "      <th>Euthanasia</th>\n",
              "      <td>10</td>\n",
              "      <td>0</td>\n",
              "      <td>42</td>\n",
              "      <td>309</td>\n",
              "    </tr>\n",
              "    <tr>\n",
              "      <th>Transfer</th>\n",
              "      <td>164</td>\n",
              "      <td>0</td>\n",
              "      <td>40</td>\n",
              "      <td>2039</td>\n",
              "    </tr>\n",
              "  </tbody>\n",
              "</table>\n",
              "</div>\n",
              "      <button class=\"colab-df-convert\" onclick=\"convertToInteractive('df-fad101a8-ee1c-4798-982a-45b51f26bfcf')\"\n",
              "              title=\"Convert this dataframe to an interactive table.\"\n",
              "              style=\"display:none;\">\n",
              "        \n",
              "  <svg xmlns=\"http://www.w3.org/2000/svg\" height=\"24px\"viewBox=\"0 0 24 24\"\n",
              "       width=\"24px\">\n",
              "    <path d=\"M0 0h24v24H0V0z\" fill=\"none\"/>\n",
              "    <path d=\"M18.56 5.44l.94 2.06.94-2.06 2.06-.94-2.06-.94-.94-2.06-.94 2.06-2.06.94zm-11 1L8.5 8.5l.94-2.06 2.06-.94-2.06-.94L8.5 2.5l-.94 2.06-2.06.94zm10 10l.94 2.06.94-2.06 2.06-.94-2.06-.94-.94-2.06-.94 2.06-2.06.94z\"/><path d=\"M17.41 7.96l-1.37-1.37c-.4-.4-.92-.59-1.43-.59-.52 0-1.04.2-1.43.59L10.3 9.45l-7.72 7.72c-.78.78-.78 2.05 0 2.83L4 21.41c.39.39.9.59 1.41.59.51 0 1.02-.2 1.41-.59l7.78-7.78 2.81-2.81c.8-.78.8-2.07 0-2.86zM5.41 20L4 18.59l7.72-7.72 1.47 1.35L5.41 20z\"/>\n",
              "  </svg>\n",
              "      </button>\n",
              "      \n",
              "  <style>\n",
              "    .colab-df-container {\n",
              "      display:flex;\n",
              "      flex-wrap:wrap;\n",
              "      gap: 12px;\n",
              "    }\n",
              "\n",
              "    .colab-df-convert {\n",
              "      background-color: #E8F0FE;\n",
              "      border: none;\n",
              "      border-radius: 50%;\n",
              "      cursor: pointer;\n",
              "      display: none;\n",
              "      fill: #1967D2;\n",
              "      height: 32px;\n",
              "      padding: 0 0 0 0;\n",
              "      width: 32px;\n",
              "    }\n",
              "\n",
              "    .colab-df-convert:hover {\n",
              "      background-color: #E2EBFA;\n",
              "      box-shadow: 0px 1px 2px rgba(60, 64, 67, 0.3), 0px 1px 3px 1px rgba(60, 64, 67, 0.15);\n",
              "      fill: #174EA6;\n",
              "    }\n",
              "\n",
              "    [theme=dark] .colab-df-convert {\n",
              "      background-color: #3B4455;\n",
              "      fill: #D2E3FC;\n",
              "    }\n",
              "\n",
              "    [theme=dark] .colab-df-convert:hover {\n",
              "      background-color: #434B5C;\n",
              "      box-shadow: 0px 1px 3px 1px rgba(0, 0, 0, 0.15);\n",
              "      filter: drop-shadow(0px 1px 2px rgba(0, 0, 0, 0.3));\n",
              "      fill: #FFFFFF;\n",
              "    }\n",
              "  </style>\n",
              "\n",
              "      <script>\n",
              "        const buttonEl =\n",
              "          document.querySelector('#df-fad101a8-ee1c-4798-982a-45b51f26bfcf button.colab-df-convert');\n",
              "        buttonEl.style.display =\n",
              "          google.colab.kernel.accessAllowed ? 'block' : 'none';\n",
              "\n",
              "        async function convertToInteractive(key) {\n",
              "          const element = document.querySelector('#df-fad101a8-ee1c-4798-982a-45b51f26bfcf');\n",
              "          const dataTable =\n",
              "            await google.colab.kernel.invokeFunction('convertToInteractive',\n",
              "                                                     [key], {});\n",
              "          if (!dataTable) return;\n",
              "\n",
              "          const docLinkHtml = 'Like what you see? Visit the ' +\n",
              "            '<a target=\"_blank\" href=https://colab.research.google.com/notebooks/data_table.ipynb>data table notebook</a>'\n",
              "            + ' to learn more about interactive tables.';\n",
              "          element.innerHTML = '';\n",
              "          dataTable['output_type'] = 'display_data';\n",
              "          await google.colab.output.renderOutput(dataTable, element);\n",
              "          const docLink = document.createElement('div');\n",
              "          docLink.innerHTML = docLinkHtml;\n",
              "          element.appendChild(docLink);\n",
              "        }\n",
              "      </script>\n",
              "    </div>\n",
              "  </div>\n",
              "  "
            ]
          },
          "metadata": {}
        }
      ]
    },
    {
      "cell_type": "code",
      "source": [
        "# Plot the decision tree\n",
        "fig,ax = plt.subplots(figsize = (15,15))\n",
        "treeplot = tree.plot_tree(clf, feature_names=['AnimalType','SexuponOutcome','AgeuponOutcome'],\n",
        "class_names = ['Adoption', 'Died', 'Euthanasia', 'Transfer'],ax=ax)"
      ],
      "metadata": {
        "id": "3bGi6vnpmvvB",
        "outputId": "1522b598-480e-4bd4-e529-8485e67559e9",
        "colab": {
          "base_uri": "https://localhost:8080/",
          "height": 846
        }
      },
      "execution_count": null,
      "outputs": [
        {
          "output_type": "display_data",
          "data": {
            "text/plain": [
              "<Figure size 1080x1080 with 1 Axes>"
            ],
            "image/png": "[encoded data removed]"
          },
          "metadata": {
            "needs_background": "light"
          }
        }
      ]
    },
    {
      "cell_type": "markdown",
      "source": [
        "\n",
        "**Problem 2.1. Animal Control**"
      ],
      "metadata": {
        "id": "HgxSSRMcnBcZ"
      }
    },
    {
      "cell_type": "code",
      "source": [
        "# Train a new decision tree here! Remember this time maxdepth should be 3 (short tree)\n",
        "clf3 = DecisionTreeClassifier(random_state=42, max_depth=3)\n",
        "clf3 = clf3.fit(X_train, y_train)\n",
        "y_pred3 = clf3.predict(X_test)\n",
        "print('accuracy %2.2f ' % accuracy_score(y_test,y_pred3))"
      ],
      "metadata": {
        "id": "IL7X4nQem9_A",
        "outputId": "0134984b-2ca2-48c3-ebe7-d4a53d6cfafd",
        "colab": {
          "base_uri": "https://localhost:8080/"
        }
      },
      "execution_count": null,
      "outputs": [
        {
          "output_type": "stream",
          "name": "stdout",
          "text": [
            "accuracy 0.66 \n"
          ]
        }
      ]
    },
    {
      "cell_type": "code",
      "source": [
        "# Let's see the confusion matrix together\n",
        "cm = confusion_matrix(le.inverse_transform(y_test), le.inverse_transform(y_pred3))\n",
        "labels=['Adoption', 'Died', 'Euthanasia', 'Transfer']\n",
        "test_results = pd.DataFrame(cm,index=labels,columns=labels)\n",
        "display(test_results)"
      ],
      "metadata": {
        "id": "s0172SSD_qe-",
        "outputId": "69773024-4d0c-44b2-c5fc-8a5786028acb",
        "colab": {
          "base_uri": "https://localhost:8080/",
          "height": 175
        }
      },
      "execution_count": null,
      "outputs": [
        {
          "output_type": "display_data",
          "data": {
            "text/plain": [
              "            Adoption  Died  Euthanasia  Transfer\n",
              "Adoption          65     0           0       786\n",
              "Died               0     0           0        35\n",
              "Euthanasia         0     0           1       360\n",
              "Transfer           3     0           1      2239"
            ],
            "text/html": [
              "\n",
              "  <div id=\"df-e7e3eb0c-4ac2-437b-89d1-84e203aeb0e0\">\n",
              "    <div class=\"colab-df-container\">\n",
              "      <div>\n",
              "<style scoped>\n",
              "    .dataframe tbody tr th:only-of-type {\n",
              "        vertical-align: middle;\n",
              "    }\n",
              "\n",
              "    .dataframe tbody tr th {\n",
              "        vertical-align: top;\n",
              "    }\n",
              "\n",
              "    .dataframe thead th {\n",
              "        text-align: right;\n",
              "    }\n",
              "</style>\n",
              "<table border=\"1\" class=\"dataframe\">\n",
              "  <thead>\n",
              "    <tr style=\"text-align: right;\">\n",
              "      <th></th>\n",
              "      <th>Adoption</th>\n",
              "      <th>Died</th>\n",
              "      <th>Euthanasia</th>\n",
              "      <th>Transfer</th>\n",
              "    </tr>\n",
              "  </thead>\n",
              "  <tbody>\n",
              "    <tr>\n",
              "      <th>Adoption</th>\n",
              "      <td>65</td>\n",
              "      <td>0</td>\n",
              "      <td>0</td>\n",
              "      <td>786</td>\n",
              "    </tr>\n",
              "    <tr>\n",
              "      <th>Died</th>\n",
              "      <td>0</td>\n",
              "      <td>0</td>\n",
              "      <td>0</td>\n",
              "      <td>35</td>\n",
              "    </tr>\n",
              "    <tr>\n",
              "      <th>Euthanasia</th>\n",
              "      <td>0</td>\n",
              "      <td>0</td>\n",
              "      <td>1</td>\n",
              "      <td>360</td>\n",
              "    </tr>\n",
              "    <tr>\n",
              "      <th>Transfer</th>\n",
              "      <td>3</td>\n",
              "      <td>0</td>\n",
              "      <td>1</td>\n",
              "      <td>2239</td>\n",
              "    </tr>\n",
              "  </tbody>\n",
              "</table>\n",
              "</div>\n",
              "      <button class=\"colab-df-convert\" onclick=\"convertToInteractive('df-e7e3eb0c-4ac2-437b-89d1-84e203aeb0e0')\"\n",
              "              title=\"Convert this dataframe to an interactive table.\"\n",
              "              style=\"display:none;\">\n",
              "        \n",
              "  <svg xmlns=\"http://www.w3.org/2000/svg\" height=\"24px\"viewBox=\"0 0 24 24\"\n",
              "       width=\"24px\">\n",
              "    <path d=\"M0 0h24v24H0V0z\" fill=\"none\"/>\n",
              "    <path d=\"M18.56 5.44l.94 2.06.94-2.06 2.06-.94-2.06-.94-.94-2.06-.94 2.06-2.06.94zm-11 1L8.5 8.5l.94-2.06 2.06-.94-2.06-.94L8.5 2.5l-.94 2.06-2.06.94zm10 10l.94 2.06.94-2.06 2.06-.94-2.06-.94-.94-2.06-.94 2.06-2.06.94z\"/><path d=\"M17.41 7.96l-1.37-1.37c-.4-.4-.92-.59-1.43-.59-.52 0-1.04.2-1.43.59L10.3 9.45l-7.72 7.72c-.78.78-.78 2.05 0 2.83L4 21.41c.39.39.9.59 1.41.59.51 0 1.02-.2 1.41-.59l7.78-7.78 2.81-2.81c.8-.78.8-2.07 0-2.86zM5.41 20L4 18.59l7.72-7.72 1.47 1.35L5.41 20z\"/>\n",
              "  </svg>\n",
              "      </button>\n",
              "      \n",
              "  <style>\n",
              "    .colab-df-container {\n",
              "      display:flex;\n",
              "      flex-wrap:wrap;\n",
              "      gap: 12px;\n",
              "    }\n",
              "\n",
              "    .colab-df-convert {\n",
              "      background-color: #E8F0FE;\n",
              "      border: none;\n",
              "      border-radius: 50%;\n",
              "      cursor: pointer;\n",
              "      display: none;\n",
              "      fill: #1967D2;\n",
              "      height: 32px;\n",
              "      padding: 0 0 0 0;\n",
              "      width: 32px;\n",
              "    }\n",
              "\n",
              "    .colab-df-convert:hover {\n",
              "      background-color: #E2EBFA;\n",
              "      box-shadow: 0px 1px 2px rgba(60, 64, 67, 0.3), 0px 1px 3px 1px rgba(60, 64, 67, 0.15);\n",
              "      fill: #174EA6;\n",
              "    }\n",
              "\n",
              "    [theme=dark] .colab-df-convert {\n",
              "      background-color: #3B4455;\n",
              "      fill: #D2E3FC;\n",
              "    }\n",
              "\n",
              "    [theme=dark] .colab-df-convert:hover {\n",
              "      background-color: #434B5C;\n",
              "      box-shadow: 0px 1px 3px 1px rgba(0, 0, 0, 0.15);\n",
              "      filter: drop-shadow(0px 1px 2px rgba(0, 0, 0, 0.3));\n",
              "      fill: #FFFFFF;\n",
              "    }\n",
              "  </style>\n",
              "\n",
              "      <script>\n",
              "        const buttonEl =\n",
              "          document.querySelector('#df-e7e3eb0c-4ac2-437b-89d1-84e203aeb0e0 button.colab-df-convert');\n",
              "        buttonEl.style.display =\n",
              "          google.colab.kernel.accessAllowed ? 'block' : 'none';\n",
              "\n",
              "        async function convertToInteractive(key) {\n",
              "          const element = document.querySelector('#df-e7e3eb0c-4ac2-437b-89d1-84e203aeb0e0');\n",
              "          const dataTable =\n",
              "            await google.colab.kernel.invokeFunction('convertToInteractive',\n",
              "                                                     [key], {});\n",
              "          if (!dataTable) return;\n",
              "\n",
              "          const docLinkHtml = 'Like what you see? Visit the ' +\n",
              "            '<a target=\"_blank\" href=https://colab.research.google.com/notebooks/data_table.ipynb>data table notebook</a>'\n",
              "            + ' to learn more about interactive tables.';\n",
              "          element.innerHTML = '';\n",
              "          dataTable['output_type'] = 'display_data';\n",
              "          await google.colab.output.renderOutput(dataTable, element);\n",
              "          const docLink = document.createElement('div');\n",
              "          docLink.innerHTML = docLinkHtml;\n",
              "          element.appendChild(docLink);\n",
              "        }\n",
              "      </script>\n",
              "    </div>\n",
              "  </div>\n",
              "  "
            ]
          },
          "metadata": {}
        }
      ]
    },
    {
      "cell_type": "code",
      "source": [
        "# Plot the decision tree\n",
        "fig,ax = plt.subplots(figsize = (15,15))\n",
        "treeplot = tree.plot_tree(clf3, feature_names=['AnimalType','SexuponOutcome','AgeuponOutcome'],\n",
        "class_names = ['Adoption', 'Died', 'Euthanasia', 'Transfer'],ax=ax)"
      ],
      "metadata": {
        "id": "2JT6ZkOJ_3Oe",
        "outputId": "ab3fd0fc-5520-4363-9c5e-2dd1701387ff",
        "colab": {
          "base_uri": "https://localhost:8080/",
          "height": 846
        }
      },
      "execution_count": null,
      "outputs": [
        {
          "output_type": "display_data",
          "data": {
            "text/plain": [
              "<Figure size 1080x1080 with 1 Axes>"
            ],
            "image/png": "[encoded data removed]"
          },
          "metadata": {
            "needs_background": "light"
          }
        }
      ]
    },
    {
      "cell_type": "markdown",
      "source": [
        "**Varying Tree Depth using Loop**"
      ],
      "metadata": {
        "id": "Teg8HnRTnS4w"
      }
    },
    {
      "cell_type": "code",
      "source": [
        "train_errors = list()\n",
        "test_errors = list()\n",
        "for x in range(3,11):\n",
        "  #Create multiple models here each based on the x variable above\n",
        "  # Store the result of modes in train_erors and test_errors variables\n",
        "    clfx = DecisionTreeClassifier(random_state=42, max_depth=x)\n",
        "    clfx = clfx.fit(X_train, y_train)\n",
        "    y1_pred = clfx.predict(X_train)\n",
        "    train_errors.append((1 - accuracy_score(y_train,y1_pred)) * 100)\n",
        "\n",
        "    y2_pred = clfx.predict(X_test)\n",
        "    test_errors.append((1 - accuracy_score(y_test,y2_pred)) * 100)\n",
        "\n",
        "\n",
        "# Plot of test and training erros\n",
        "plt.plot(range(3,11),train_errors, label='Train Error')\n",
        "plt.plot(range(3,11),test_errors, label='Test Error')\n",
        "plt.legend(loc='upper left')\n",
        "plt.xlabel('Depth parameter')\n",
        "plt.ylabel('Performance')"
      ],
      "metadata": {
        "id": "EPtoNi1Bl9KB",
        "outputId": "a6d1a7ed-a00c-4500-d268-b72e84ee2136",
        "colab": {
          "base_uri": "https://localhost:8080/",
          "height": 302
        }
      },
      "execution_count": null,
      "outputs": [
        {
          "output_type": "execute_result",
          "data": {
            "text/plain": [
              "Text(0, 0.5, 'Performance')"
            ]
          },
          "metadata": {},
          "execution_count": 15
        },
        {
          "output_type": "display_data",
          "data": {
            "text/plain": [
              "<Figure size 432x288 with 1 Axes>"
            ],
            "image/png": "[encoded data removed]"
          },
          "metadata": {
            "needs_background": "light"
          }
        }
      ]
    },
    {
      "cell_type": "markdown",
      "source": [
        "*Your conclusion about above graph comes here*\n"
      ],
      "metadata": {
        "id": "6_l-YoTvAlSo"
      }
    },
    {
      "cell_type": "markdown",
      "source": [
        "**Tree Pruning here**"
      ],
      "metadata": {
        "id": "XerpuFurnh44"
      }
    },
    {
      "cell_type": "code",
      "source": [
        "tree_prune = clf.cost_complexity_pruning_path(X_train, y_train)\n",
        "ccp_alphas, impurities = tree_prune.ccp_alphas, tree_prune.impurities\n",
        "b\n",
        "fig, ax = plt.subplots()\n",
        "ax.plot(ccp_alphas[:-1], impurities[:-1], marker=\"o\", drawstyle=\"steps-post\")\n",
        "ax.set_xlabel(\"effective alpha\")\n",
        "ax.set_ylabel(\"total impurity of leaves\")\n",
        "ax.set_title(\"Total Impurity vs effective alpha for training set\")"
      ],
      "metadata": {
        "id": "70FhDNQbnedx",
        "outputId": "903db1ed-a210-43dc-8d64-95f48ec8e0af",
        "colab": {
          "base_uri": "https://localhost:8080/",
          "height": 318
        }
      },
      "execution_count": null,
      "outputs": [
        {
          "output_type": "execute_result",
          "data": {
            "text/plain": [
              "Text(0.5, 1.0, 'Total Impurity vs effective alpha for training set')"
            ]
          },
          "metadata": {},
          "execution_count": 16
        },
        {
          "output_type": "display_data",
          "data": {
            "text/plain": [
              "<Figure size 432x288 with 1 Axes>"
            ],
            "image/png": "[encoded data removed]"
          },
          "metadata": {
            "needs_background": "light"
          }
        }
      ]
    },
    {
      "cell_type": "code",
      "source": [
        "clfs = []\n",
        "for ccp_alpha in ccp_alphas:\n",
        "    clf = DecisionTreeClassifier(random_state=42, ccp_alpha=ccp_alpha)\n",
        "    clf.fit(X_train, y_train)\n",
        "    clfs.append(clf)\n",
        "print(\n",
        "    \"Number of nodes in the last tree is: {} with ccp_alpha: {}\".format(\n",
        "        clfs[-1].tree_.node_count, ccp_alphas[-1]\n",
        "    )\n",
        ")"
      ],
      "metadata": {
        "id": "RgfBV3SB7Ocr",
        "outputId": "2e962172-9465-4526-c80c-592f91ae0035",
        "colab": {
          "base_uri": "https://localhost:8080/"
        }
      },
      "execution_count": null,
      "outputs": [
        {
          "output_type": "stream",
          "name": "stdout",
          "text": [
            "Number of nodes in the last tree is: 1 with ccp_alpha: 0.03172364622964907\n"
          ]
        }
      ]
    },
    {
      "cell_type": "code",
      "source": [
        "clfs = clfs[:-1]\n",
        "ccp_alphas = ccp_alphas[:-1]\n",
        "\n",
        "node_counts = [clf.tree_.node_count for clf in clfs]\n",
        "depth = [clf.tree_.max_depth for clf in clfs]\n",
        "fig, ax = plt.subplots(2, 1)\n",
        "ax[0].plot(ccp_alphas, node_counts, marker=\"o\", drawstyle=\"steps-post\")\n",
        "ax[0].set_xlabel(\"alpha\")\n",
        "ax[0].set_ylabel(\"number of nodes\")\n",
        "ax[0].set_title(\"Number of nodes vs alpha\")\n",
        "ax[1].plot(ccp_alphas, depth, marker=\"o\", drawstyle=\"steps-post\")\n",
        "ax[1].set_xlabel(\"alpha\")\n",
        "ax[1].set_ylabel(\"depth of tree\")\n",
        "ax[1].set_title(\"Depth vs alpha\")\n",
        "fig.tight_layout()"
      ],
      "metadata": {
        "id": "p1xoO_FT7UyA",
        "outputId": "9f1ba5f5-aa4a-4370-ec30-84263a83c125",
        "colab": {
          "base_uri": "https://localhost:8080/",
          "height": 297
        }
      },
      "execution_count": null,
      "outputs": [
        {
          "output_type": "display_data",
          "data": {
            "text/plain": [
              "<Figure size 432x288 with 2 Axes>"
            ],
            "image/png": "[encoded data removed]"
          },
          "metadata": {
            "needs_background": "light"
          }
        }
      ]
    },
    {
      "cell_type": "markdown",
      "source": [
        "**Pruned Accuracy vs. Unpruned**"
      ],
      "metadata": {
        "id": "CMVuWI2xqH2u"
      }
    },
    {
      "cell_type": "code",
      "source": [
        "tree_prune = DecisionTreeClassifier(ccp_alpha=0.0007)\n",
        "tree_prune = tree_prune.fit(X_train,y_train)\n",
        "y_pred_prune = tree_prune.predict(X_test)\n",
        "print('accuracy %2.2f ' % accuracy_score(y_test,y_pred_prune))\n",
        "\n"
      ],
      "metadata": {
        "id": "SznkL6sQnUaA",
        "outputId": "0fd1c406-639e-44ff-ed2e-dfb0c01287cb",
        "colab": {
          "base_uri": "https://localhost:8080/"
        }
      },
      "execution_count": null,
      "outputs": [
        {
          "output_type": "stream",
          "name": "stdout",
          "text": [
            "accuracy 0.74 \n"
          ]
        }
      ]
    },
    {
      "cell_type": "code",
      "source": [
        "# Create two confusion matrices here. The first confusion matrix shows predictions for the pruned tree and the second one \n",
        "# predictions for the unpruned one\n",
        "cm = confusion_matrix(le.inverse_transform(y_test), le.inverse_transform(y_pred))\n",
        "labels=['Adoption', 'Died', 'Euthanasia', 'Transfer']\n",
        "test_results = pd.DataFrame(cm,index=labels,columns=labels)\n",
        "display(test_results)\n",
        "\n",
        "cm = confusion_matrix(le.inverse_transform(y_test), le.inverse_transform(y_pred_prune))\n",
        "labels=['Adoption', 'Died', 'Euthanasia', 'Transfer']\n",
        "test_results = pd.DataFrame(cm,index=labels,columns=labels)\n",
        "display(test_results)\n",
        "\n"
      ],
      "metadata": {
        "id": "XzxFOkecBMnF",
        "outputId": "dbdf9d90-2d8e-46d0-db00-68e0fb50c071",
        "colab": {
          "base_uri": "https://localhost:8080/",
          "height": 333
        }
      },
      "execution_count": null,
      "outputs": [
        {
          "output_type": "display_data",
          "data": {
            "text/plain": [
              "            Adoption  Died  Euthanasia  Transfer\n",
              "Adoption         476     0          10       365\n",
              "Died               3     0           1        31\n",
              "Euthanasia        10     0          42       309\n",
              "Transfer         164     0          40      2039"
            ],
            "text/html": [
              "\n",
              "  <div id=\"df-a693d7f1-c8a6-49f2-90d7-7a5536f0b268\">\n",
              "    <div class=\"colab-df-container\">\n",
              "      <div>\n",
              "<style scoped>\n",
              "    .dataframe tbody tr th:only-of-type {\n",
              "        vertical-align: middle;\n",
              "    }\n",
              "\n",
              "    .dataframe tbody tr th {\n",
              "        vertical-align: top;\n",
              "    }\n",
              "\n",
              "    .dataframe thead th {\n",
              "        text-align: right;\n",
              "    }\n",
              "</style>\n",
              "<table border=\"1\" class=\"dataframe\">\n",
              "  <thead>\n",
              "    <tr style=\"text-align: right;\">\n",
              "      <th></th>\n",
              "      <th>Adoption</th>\n",
              "      <th>Died</th>\n",
              "      <th>Euthanasia</th>\n",
              "      <th>Transfer</th>\n",
              "    </tr>\n",
              "  </thead>\n",
              "  <tbody>\n",
              "    <tr>\n",
              "      <th>Adoption</th>\n",
              "      <td>476</td>\n",
              "      <td>0</td>\n",
              "      <td>10</td>\n",
              "      <td>365</td>\n",
              "    </tr>\n",
              "    <tr>\n",
              "      <th>Died</th>\n",
              "      <td>3</td>\n",
              "      <td>0</td>\n",
              "      <td>1</td>\n",
              "      <td>31</td>\n",
              "    </tr>\n",
              "    <tr>\n",
              "      <th>Euthanasia</th>\n",
              "      <td>10</td>\n",
              "      <td>0</td>\n",
              "      <td>42</td>\n",
              "      <td>309</td>\n",
              "    </tr>\n",
              "    <tr>\n",
              "      <th>Transfer</th>\n",
              "      <td>164</td>\n",
              "      <td>0</td>\n",
              "      <td>40</td>\n",
              "      <td>2039</td>\n",
              "    </tr>\n",
              "  </tbody>\n",
              "</table>\n",
              "</div>\n",
              "      <button class=\"colab-df-convert\" onclick=\"convertToInteractive('df-a693d7f1-c8a6-49f2-90d7-7a5536f0b268')\"\n",
              "              title=\"Convert this dataframe to an interactive table.\"\n",
              "              style=\"display:none;\">\n",
              "        \n",
              "  <svg xmlns=\"http://www.w3.org/2000/svg\" height=\"24px\"viewBox=\"0 0 24 24\"\n",
              "       width=\"24px\">\n",
              "    <path d=\"M0 0h24v24H0V0z\" fill=\"none\"/>\n",
              "    <path d=\"M18.56 5.44l.94 2.06.94-2.06 2.06-.94-2.06-.94-.94-2.06-.94 2.06-2.06.94zm-11 1L8.5 8.5l.94-2.06 2.06-.94-2.06-.94L8.5 2.5l-.94 2.06-2.06.94zm10 10l.94 2.06.94-2.06 2.06-.94-2.06-.94-.94-2.06-.94 2.06-2.06.94z\"/><path d=\"M17.41 7.96l-1.37-1.37c-.4-.4-.92-.59-1.43-.59-.52 0-1.04.2-1.43.59L10.3 9.45l-7.72 7.72c-.78.78-.78 2.05 0 2.83L4 21.41c.39.39.9.59 1.41.59.51 0 1.02-.2 1.41-.59l7.78-7.78 2.81-2.81c.8-.78.8-2.07 0-2.86zM5.41 20L4 18.59l7.72-7.72 1.47 1.35L5.41 20z\"/>\n",
              "  </svg>\n",
              "      </button>\n",
              "      \n",
              "  <style>\n",
              "    .colab-df-container {\n",
              "      display:flex;\n",
              "      flex-wrap:wrap;\n",
              "      gap: 12px;\n",
              "    }\n",
              "\n",
              "    .colab-df-convert {\n",
              "      background-color: #E8F0FE;\n",
              "      border: none;\n",
              "      border-radius: 50%;\n",
              "      cursor: pointer;\n",
              "      display: none;\n",
              "      fill: #1967D2;\n",
              "      height: 32px;\n",
              "      padding: 0 0 0 0;\n",
              "      width: 32px;\n",
              "    }\n",
              "\n",
              "    .colab-df-convert:hover {\n",
              "      background-color: #E2EBFA;\n",
              "      box-shadow: 0px 1px 2px rgba(60, 64, 67, 0.3), 0px 1px 3px 1px rgba(60, 64, 67, 0.15);\n",
              "      fill: #174EA6;\n",
              "    }\n",
              "\n",
              "    [theme=dark] .colab-df-convert {\n",
              "      background-color: #3B4455;\n",
              "      fill: #D2E3FC;\n",
              "    }\n",
              "\n",
              "    [theme=dark] .colab-df-convert:hover {\n",
              "      background-color: #434B5C;\n",
              "      box-shadow: 0px 1px 3px 1px rgba(0, 0, 0, 0.15);\n",
              "      filter: drop-shadow(0px 1px 2px rgba(0, 0, 0, 0.3));\n",
              "      fill: #FFFFFF;\n",
              "    }\n",
              "  </style>\n",
              "\n",
              "      <script>\n",
              "        const buttonEl =\n",
              "          document.querySelector('#df-a693d7f1-c8a6-49f2-90d7-7a5536f0b268 button.colab-df-convert');\n",
              "        buttonEl.style.display =\n",
              "          google.colab.kernel.accessAllowed ? 'block' : 'none';\n",
              "\n",
              "        async function convertToInteractive(key) {\n",
              "          const element = document.querySelector('#df-a693d7f1-c8a6-49f2-90d7-7a5536f0b268');\n",
              "          const dataTable =\n",
              "            await google.colab.kernel.invokeFunction('convertToInteractive',\n",
              "                                                     [key], {});\n",
              "          if (!dataTable) return;\n",
              "\n",
              "          const docLinkHtml = 'Like what you see? Visit the ' +\n",
              "            '<a target=\"_blank\" href=https://colab.research.google.com/notebooks/data_table.ipynb>data table notebook</a>'\n",
              "            + ' to learn more about interactive tables.';\n",
              "          element.innerHTML = '';\n",
              "          dataTable['output_type'] = 'display_data';\n",
              "          await google.colab.output.renderOutput(dataTable, element);\n",
              "          const docLink = document.createElement('div');\n",
              "          docLink.innerHTML = docLinkHtml;\n",
              "          element.appendChild(docLink);\n",
              "        }\n",
              "      </script>\n",
              "    </div>\n",
              "  </div>\n",
              "  "
            ]
          },
          "metadata": {}
        },
        {
          "output_type": "display_data",
          "data": {
            "text/plain": [
              "            Adoption  Died  Euthanasia  Transfer\n",
              "Adoption         463     0          17       371\n",
              "Died               3     0           2        30\n",
              "Euthanasia         7     0          33       321\n",
              "Transfer         136     0          30      2077"
            ],
            "text/html": [
              "\n",
              "  <div id=\"df-ab7fb53e-044d-48c5-a4af-f2a9eea2b692\">\n",
              "    <div class=\"colab-df-container\">\n",
              "      <div>\n",
              "<style scoped>\n",
              "    .dataframe tbody tr th:only-of-type {\n",
              "        vertical-align: middle;\n",
              "    }\n",
              "\n",
              "    .dataframe tbody tr th {\n",
              "        vertical-align: top;\n",
              "    }\n",
              "\n",
              "    .dataframe thead th {\n",
              "        text-align: right;\n",
              "    }\n",
              "</style>\n",
              "<table border=\"1\" class=\"dataframe\">\n",
              "  <thead>\n",
              "    <tr style=\"text-align: right;\">\n",
              "      <th></th>\n",
              "      <th>Adoption</th>\n",
              "      <th>Died</th>\n",
              "      <th>Euthanasia</th>\n",
              "      <th>Transfer</th>\n",
              "    </tr>\n",
              "  </thead>\n",
              "  <tbody>\n",
              "    <tr>\n",
              "      <th>Adoption</th>\n",
              "      <td>463</td>\n",
              "      <td>0</td>\n",
              "      <td>17</td>\n",
              "      <td>371</td>\n",
              "    </tr>\n",
              "    <tr>\n",
              "      <th>Died</th>\n",
              "      <td>3</td>\n",
              "      <td>0</td>\n",
              "      <td>2</td>\n",
              "      <td>30</td>\n",
              "    </tr>\n",
              "    <tr>\n",
              "      <th>Euthanasia</th>\n",
              "      <td>7</td>\n",
              "      <td>0</td>\n",
              "      <td>33</td>\n",
              "      <td>321</td>\n",
              "    </tr>\n",
              "    <tr>\n",
              "      <th>Transfer</th>\n",
              "      <td>136</td>\n",
              "      <td>0</td>\n",
              "      <td>30</td>\n",
              "      <td>2077</td>\n",
              "    </tr>\n",
              "  </tbody>\n",
              "</table>\n",
              "</div>\n",
              "      <button class=\"colab-df-convert\" onclick=\"convertToInteractive('df-ab7fb53e-044d-48c5-a4af-f2a9eea2b692')\"\n",
              "              title=\"Convert this dataframe to an interactive table.\"\n",
              "              style=\"display:none;\">\n",
              "        \n",
              "  <svg xmlns=\"http://www.w3.org/2000/svg\" height=\"24px\"viewBox=\"0 0 24 24\"\n",
              "       width=\"24px\">\n",
              "    <path d=\"M0 0h24v24H0V0z\" fill=\"none\"/>\n",
              "    <path d=\"M18.56 5.44l.94 2.06.94-2.06 2.06-.94-2.06-.94-.94-2.06-.94 2.06-2.06.94zm-11 1L8.5 8.5l.94-2.06 2.06-.94-2.06-.94L8.5 2.5l-.94 2.06-2.06.94zm10 10l.94 2.06.94-2.06 2.06-.94-2.06-.94-.94-2.06-.94 2.06-2.06.94z\"/><path d=\"M17.41 7.96l-1.37-1.37c-.4-.4-.92-.59-1.43-.59-.52 0-1.04.2-1.43.59L10.3 9.45l-7.72 7.72c-.78.78-.78 2.05 0 2.83L4 21.41c.39.39.9.59 1.41.59.51 0 1.02-.2 1.41-.59l7.78-7.78 2.81-2.81c.8-.78.8-2.07 0-2.86zM5.41 20L4 18.59l7.72-7.72 1.47 1.35L5.41 20z\"/>\n",
              "  </svg>\n",
              "      </button>\n",
              "      \n",
              "  <style>\n",
              "    .colab-df-container {\n",
              "      display:flex;\n",
              "      flex-wrap:wrap;\n",
              "      gap: 12px;\n",
              "    }\n",
              "\n",
              "    .colab-df-convert {\n",
              "      background-color: #E8F0FE;\n",
              "      border: none;\n",
              "      border-radius: 50%;\n",
              "      cursor: pointer;\n",
              "      display: none;\n",
              "      fill: #1967D2;\n",
              "      height: 32px;\n",
              "      padding: 0 0 0 0;\n",
              "      width: 32px;\n",
              "    }\n",
              "\n",
              "    .colab-df-convert:hover {\n",
              "      background-color: #E2EBFA;\n",
              "      box-shadow: 0px 1px 2px rgba(60, 64, 67, 0.3), 0px 1px 3px 1px rgba(60, 64, 67, 0.15);\n",
              "      fill: #174EA6;\n",
              "    }\n",
              "\n",
              "    [theme=dark] .colab-df-convert {\n",
              "      background-color: #3B4455;\n",
              "      fill: #D2E3FC;\n",
              "    }\n",
              "\n",
              "    [theme=dark] .colab-df-convert:hover {\n",
              "      background-color: #434B5C;\n",
              "      box-shadow: 0px 1px 3px 1px rgba(0, 0, 0, 0.15);\n",
              "      filter: drop-shadow(0px 1px 2px rgba(0, 0, 0, 0.3));\n",
              "      fill: #FFFFFF;\n",
              "    }\n",
              "  </style>\n",
              "\n",
              "      <script>\n",
              "        const buttonEl =\n",
              "          document.querySelector('#df-ab7fb53e-044d-48c5-a4af-f2a9eea2b692 button.colab-df-convert');\n",
              "        buttonEl.style.display =\n",
              "          google.colab.kernel.accessAllowed ? 'block' : 'none';\n",
              "\n",
              "        async function convertToInteractive(key) {\n",
              "          const element = document.querySelector('#df-ab7fb53e-044d-48c5-a4af-f2a9eea2b692');\n",
              "          const dataTable =\n",
              "            await google.colab.kernel.invokeFunction('convertToInteractive',\n",
              "                                                     [key], {});\n",
              "          if (!dataTable) return;\n",
              "\n",
              "          const docLinkHtml = 'Like what you see? Visit the ' +\n",
              "            '<a target=\"_blank\" href=https://colab.research.google.com/notebooks/data_table.ipynb>data table notebook</a>'\n",
              "            + ' to learn more about interactive tables.';\n",
              "          element.innerHTML = '';\n",
              "          dataTable['output_type'] = 'display_data';\n",
              "          await google.colab.output.renderOutput(dataTable, element);\n",
              "          const docLink = document.createElement('div');\n",
              "          docLink.innerHTML = docLinkHtml;\n",
              "          element.appendChild(docLink);\n",
              "        }\n",
              "      </script>\n",
              "    </div>\n",
              "  </div>\n",
              "  "
            ]
          },
          "metadata": {}
        }
      ]
    },
    {
      "cell_type": "code",
      "source": [
        "fig,ax = plt.subplots(figsize = (15,15))\n",
        "treeplot = tree.plot_tree(tree_prune, feature_names=['AnimalType','SexuponOutcome','AgeuponOutcome'],\n",
        "class_names = ['Adoption', 'Died', 'Euthanasia', 'Transfer'],ax=ax)"
      ],
      "metadata": {
        "id": "ejWJhNlh7l1H",
        "outputId": "bd5e6605-0db8-43fe-cebc-f583339178b6",
        "colab": {
          "base_uri": "https://localhost:8080/",
          "height": 846
        }
      },
      "execution_count": null,
      "outputs": [
        {
          "output_type": "display_data",
          "data": {
            "text/plain": [
              "<Figure size 1080x1080 with 1 Axes>"
            ],
            "image/png": "[encoded data removed]"
          },
          "metadata": {
            "needs_background": "light"
          }
        }
      ]
    },
    {
      "cell_type": "markdown",
      "source": [
        "**Text Data**"
      ],
      "metadata": {
        "id": "TFBgSksFAxlc"
      }
    },
    {
      "cell_type": "code",
      "source": [
        "text_df.head()"
      ],
      "metadata": {
        "id": "o_0SkeqPAw6-",
        "outputId": "c58ee0a8-54ab-4f7a-a0fa-37bb2c7f021b",
        "colab": {
          "base_uri": "https://localhost:8080/",
          "height": 647
        }
      },
      "execution_count": null,
      "outputs": [
        {
          "output_type": "execute_result",
          "data": {
            "text/plain": [
              "   Unnamed: 0 meta_author                                         meta_title  \\\n",
              "0           0    hamilton  general introduction for the independent journ...   \n",
              "1           1         jay  concerning dangers from foreign force and infl...   \n",
              "2           2         jay  the same subject continued concerning dangers ...   \n",
              "3           3         jay  the same subject continued concerning dangers ...   \n",
              "4           4         jay  the same subject continued concerning dangers ...   \n",
              "\n",
              "   000  10  11  13  136  13th  1648  ...  yielding  yoke  yokes  york  young  \\\n",
              "0    0   0   0   0    0     0     0  ...         0     0      0     1      0   \n",
              "1    0   0   0   0    0     0     0  ...         0     0      0     1      0   \n",
              "2    0   0   0   0    0     0     0  ...         0     0      0     1      0   \n",
              "3    0   0   0   0    0     0     0  ...         0     0      0     1      0   \n",
              "4    0   0   0   0    0     0     0  ...         0     0      0     1      1   \n",
              "\n",
              "   yourselves  zaleucus  zeal  zealand  zealous  \n",
              "0           0         0     3        0        0  \n",
              "1           0         0     0        0        0  \n",
              "2           0         0     0        0        0  \n",
              "3           0         0     0        0        0  \n",
              "4           1         0     0        0        0  \n",
              "\n",
              "[5 rows x 8563 columns]"
            ],
            "text/html": [
              "\n",
              "  <div id=\"df-13c6679f-ee8f-4211-872e-ef4b96122436\">\n",
              "    <div class=\"colab-df-container\">\n",
              "      <div>\n",
              "<style scoped>\n",
              "    .dataframe tbody tr th:only-of-type {\n",
              "        vertical-align: middle;\n",
              "    }\n",
              "\n",
              "    .dataframe tbody tr th {\n",
              "        vertical-align: top;\n",
              "    }\n",
              "\n",
              "    .dataframe thead th {\n",
              "        text-align: right;\n",
              "    }\n",
              "</style>\n",
              "<table border=\"1\" class=\"dataframe\">\n",
              "  <thead>\n",
              "    <tr style=\"text-align: right;\">\n",
              "      <th></th>\n",
              "      <th>Unnamed: 0</th>\n",
              "      <th>meta_author</th>\n",
              "      <th>meta_title</th>\n",
              "      <th>000</th>\n",
              "      <th>10</th>\n",
              "      <th>11</th>\n",
              "      <th>13</th>\n",
              "      <th>136</th>\n",
              "      <th>13th</th>\n",
              "      <th>1648</th>\n",
              "      <th>...</th>\n",
              "      <th>yielding</th>\n",
              "      <th>yoke</th>\n",
              "      <th>yokes</th>\n",
              "      <th>york</th>\n",
              "      <th>young</th>\n",
              "      <th>yourselves</th>\n",
              "      <th>zaleucus</th>\n",
              "      <th>zeal</th>\n",
              "      <th>zealand</th>\n",
              "      <th>zealous</th>\n",
              "    </tr>\n",
              "  </thead>\n",
              "  <tbody>\n",
              "    <tr>\n",
              "      <th>0</th>\n",
              "      <td>0</td>\n",
              "      <td>hamilton</td>\n",
              "      <td>general introduction for the independent journ...</td>\n",
              "      <td>0</td>\n",
              "      <td>0</td>\n",
              "      <td>0</td>\n",
              "      <td>0</td>\n",
              "      <td>0</td>\n",
              "      <td>0</td>\n",
              "      <td>0</td>\n",
              "      <td>...</td>\n",
              "      <td>0</td>\n",
              "      <td>0</td>\n",
              "      <td>0</td>\n",
              "      <td>1</td>\n",
              "      <td>0</td>\n",
              "      <td>0</td>\n",
              "      <td>0</td>\n",
              "      <td>3</td>\n",
              "      <td>0</td>\n",
              "      <td>0</td>\n",
              "    </tr>\n",
              "    <tr>\n",
              "      <th>1</th>\n",
              "      <td>1</td>\n",
              "      <td>jay</td>\n",
              "      <td>concerning dangers from foreign force and infl...</td>\n",
              "      <td>0</td>\n",
              "      <td>0</td>\n",
              "      <td>0</td>\n",
              "      <td>0</td>\n",
              "      <td>0</td>\n",
              "      <td>0</td>\n",
              "      <td>0</td>\n",
              "      <td>...</td>\n",
              "      <td>0</td>\n",
              "      <td>0</td>\n",
              "      <td>0</td>\n",
              "      <td>1</td>\n",
              "      <td>0</td>\n",
              "      <td>0</td>\n",
              "      <td>0</td>\n",
              "      <td>0</td>\n",
              "      <td>0</td>\n",
              "      <td>0</td>\n",
              "    </tr>\n",
              "    <tr>\n",
              "      <th>2</th>\n",
              "      <td>2</td>\n",
              "      <td>jay</td>\n",
              "      <td>the same subject continued concerning dangers ...</td>\n",
              "      <td>0</td>\n",
              "      <td>0</td>\n",
              "      <td>0</td>\n",
              "      <td>0</td>\n",
              "      <td>0</td>\n",
              "      <td>0</td>\n",
              "      <td>0</td>\n",
              "      <td>...</td>\n",
              "      <td>0</td>\n",
              "      <td>0</td>\n",
              "      <td>0</td>\n",
              "      <td>1</td>\n",
              "      <td>0</td>\n",
              "      <td>0</td>\n",
              "      <td>0</td>\n",
              "      <td>0</td>\n",
              "      <td>0</td>\n",
              "      <td>0</td>\n",
              "    </tr>\n",
              "    <tr>\n",
              "      <th>3</th>\n",
              "      <td>3</td>\n",
              "      <td>jay</td>\n",
              "      <td>the same subject continued concerning dangers ...</td>\n",
              "      <td>0</td>\n",
              "      <td>0</td>\n",
              "      <td>0</td>\n",
              "      <td>0</td>\n",
              "      <td>0</td>\n",
              "      <td>0</td>\n",
              "      <td>0</td>\n",
              "      <td>...</td>\n",
              "      <td>0</td>\n",
              "      <td>0</td>\n",
              "      <td>0</td>\n",
              "      <td>1</td>\n",
              "      <td>0</td>\n",
              "      <td>0</td>\n",
              "      <td>0</td>\n",
              "      <td>0</td>\n",
              "      <td>0</td>\n",
              "      <td>0</td>\n",
              "    </tr>\n",
              "    <tr>\n",
              "      <th>4</th>\n",
              "      <td>4</td>\n",
              "      <td>jay</td>\n",
              "      <td>the same subject continued concerning dangers ...</td>\n",
              "      <td>0</td>\n",
              "      <td>0</td>\n",
              "      <td>0</td>\n",
              "      <td>0</td>\n",
              "      <td>0</td>\n",
              "      <td>0</td>\n",
              "      <td>0</td>\n",
              "      <td>...</td>\n",
              "      <td>0</td>\n",
              "      <td>0</td>\n",
              "      <td>0</td>\n",
              "      <td>1</td>\n",
              "      <td>1</td>\n",
              "      <td>1</td>\n",
              "      <td>0</td>\n",
              "      <td>0</td>\n",
              "      <td>0</td>\n",
              "      <td>0</td>\n",
              "    </tr>\n",
              "  </tbody>\n",
              "</table>\n",
              "<p>5 rows × 8563 columns</p>\n",
              "</div>\n",
              "      <button class=\"colab-df-convert\" onclick=\"convertToInteractive('df-13c6679f-ee8f-4211-872e-ef4b96122436')\"\n",
              "              title=\"Convert this dataframe to an interactive table.\"\n",
              "              style=\"display:none;\">\n",
              "        \n",
              "  <svg xmlns=\"http://www.w3.org/2000/svg\" height=\"24px\"viewBox=\"0 0 24 24\"\n",
              "       width=\"24px\">\n",
              "    <path d=\"M0 0h24v24H0V0z\" fill=\"none\"/>\n",
              "    <path d=\"M18.56 5.44l.94 2.06.94-2.06 2.06-.94-2.06-.94-.94-2.06-.94 2.06-2.06.94zm-11 1L8.5 8.5l.94-2.06 2.06-.94-2.06-.94L8.5 2.5l-.94 2.06-2.06.94zm10 10l.94 2.06.94-2.06 2.06-.94-2.06-.94-.94-2.06-.94 2.06-2.06.94z\"/><path d=\"M17.41 7.96l-1.37-1.37c-.4-.4-.92-.59-1.43-.59-.52 0-1.04.2-1.43.59L10.3 9.45l-7.72 7.72c-.78.78-.78 2.05 0 2.83L4 21.41c.39.39.9.59 1.41.59.51 0 1.02-.2 1.41-.59l7.78-7.78 2.81-2.81c.8-.78.8-2.07 0-2.86zM5.41 20L4 18.59l7.72-7.72 1.47 1.35L5.41 20z\"/>\n",
              "  </svg>\n",
              "      </button>\n",
              "      \n",
              "  <style>\n",
              "    .colab-df-container {\n",
              "      display:flex;\n",
              "      flex-wrap:wrap;\n",
              "      gap: 12px;\n",
              "    }\n",
              "\n",
              "    .colab-df-convert {\n",
              "      background-color: #E8F0FE;\n",
              "      border: none;\n",
              "      border-radius: 50%;\n",
              "      cursor: pointer;\n",
              "      display: none;\n",
              "      fill: #1967D2;\n",
              "      height: 32px;\n",
              "      padding: 0 0 0 0;\n",
              "      width: 32px;\n",
              "    }\n",
              "\n",
              "    .colab-df-convert:hover {\n",
              "      background-color: #E2EBFA;\n",
              "      box-shadow: 0px 1px 2px rgba(60, 64, 67, 0.3), 0px 1px 3px 1px rgba(60, 64, 67, 0.15);\n",
              "      fill: #174EA6;\n",
              "    }\n",
              "\n",
              "    [theme=dark] .colab-df-convert {\n",
              "      background-color: #3B4455;\n",
              "      fill: #D2E3FC;\n",
              "    }\n",
              "\n",
              "    [theme=dark] .colab-df-convert:hover {\n",
              "      background-color: #434B5C;\n",
              "      box-shadow: 0px 1px 3px 1px rgba(0, 0, 0, 0.15);\n",
              "      filter: drop-shadow(0px 1px 2px rgba(0, 0, 0, 0.3));\n",
              "      fill: #FFFFFF;\n",
              "    }\n",
              "  </style>\n",
              "\n",
              "      <script>\n",
              "        const buttonEl =\n",
              "          document.querySelector('#df-13c6679f-ee8f-4211-872e-ef4b96122436 button.colab-df-convert');\n",
              "        buttonEl.style.display =\n",
              "          google.colab.kernel.accessAllowed ? 'block' : 'none';\n",
              "\n",
              "        async function convertToInteractive(key) {\n",
              "          const element = document.querySelector('#df-13c6679f-ee8f-4211-872e-ef4b96122436');\n",
              "          const dataTable =\n",
              "            await google.colab.kernel.invokeFunction('convertToInteractive',\n",
              "                                                     [key], {});\n",
              "          if (!dataTable) return;\n",
              "\n",
              "          const docLinkHtml = 'Like what you see? Visit the ' +\n",
              "            '<a target=\"_blank\" href=https://colab.research.google.com/notebooks/data_table.ipynb>data table notebook</a>'\n",
              "            + ' to learn more about interactive tables.';\n",
              "          element.innerHTML = '';\n",
              "          dataTable['output_type'] = 'display_data';\n",
              "          await google.colab.output.renderOutput(dataTable, element);\n",
              "          const docLink = document.createElement('div');\n",
              "          docLink.innerHTML = docLinkHtml;\n",
              "          element.appendChild(docLink);\n",
              "        }\n",
              "      </script>\n",
              "    </div>\n",
              "  </div>\n",
              "  "
            ]
          },
          "metadata": {},
          "execution_count": 23
        }
      ]
    },
    {
      "cell_type": "code",
      "source": [
        "text_df.meta_author.unique()"
      ],
      "metadata": {
        "id": "T5RVh8df7zHW",
        "outputId": "310a4952-563a-4d17-f4c9-0a8c905c639c",
        "colab": {
          "base_uri": "https://localhost:8080/"
        }
      },
      "execution_count": null,
      "outputs": [
        {
          "output_type": "execute_result",
          "data": {
            "text/plain": [
              "array(['hamilton', 'jay', 'madison', 'madison with hamilton'],\n",
              "      dtype=object)"
            ]
          },
          "metadata": {},
          "execution_count": 24
        }
      ]
    },
    {
      "cell_type": "code",
      "source": [
        "# this line drops any rows with missing data\n",
        "cleaned_data = text_df.dropna()\n",
        "# here we grab the data we want from pandas\n",
        "y_data = cleaned_data[['meta_author']]\n",
        "\n",
        "X_data = cleaned_data.drop(columns=['meta_author'],)\n",
        "enc = OrdinalEncoder()\n",
        "enc.fit(X_data)\n",
        "le = preprocessing.LabelEncoder()\n",
        "le.fit(y_data)\n",
        "data_categorical = pd.DataFrame(enc.transform(X_data),\n",
        "columns=list(X_data))\n",
        "X=data_categorical\n",
        "y=le.transform(y_data)\n",
        "# Without changing the random state, divide your data into 50% for test and 50% for train\n",
        "X_train, X_test, y_train, y_test = train_test_split(X,y,train_size=0.90, random_state=42)"
      ],
      "metadata": {
        "id": "knUu790P70KT",
        "outputId": "8b30543d-0659-4938-f3a5-4c9bf5c57de9",
        "colab": {
          "base_uri": "https://localhost:8080/"
        }
      },
      "execution_count": null,
      "outputs": [
        {
          "output_type": "stream",
          "name": "stderr",
          "text": [
            "/usr/local/lib/python3.7/dist-packages/sklearn/preprocessing/_label.py:98: DataConversionWarning: A column-vector y was passed when a 1d array was expected. Please change the shape of y to (n_samples, ), for example using ravel().\n",
            "  y = column_or_1d(y, warn=True)\n",
            "/usr/local/lib/python3.7/dist-packages/sklearn/preprocessing/_label.py:133: DataConversionWarning: A column-vector y was passed when a 1d array was expected. Please change the shape of y to (n_samples, ), for example using ravel().\n",
            "  y = column_or_1d(y, warn=True)\n"
          ]
        }
      ]
    },
    {
      "cell_type": "code",
      "source": [
        "#Apply the model here\n",
        "clf = DecisionTreeClassifier(random_state=42)\n",
        "clf = clf.fit(X_train, y_train)   #Fit on training data\n",
        "y_pred = clf.predict(X_test)\n",
        "print('accuracy %2.2f ' % accuracy_score(y_test,y_pred))"
      ],
      "metadata": {
        "id": "gMau_Y9MBfqs",
        "outputId": "a3fb6e88-ae02-4411-d253-81e3e9df41ba",
        "colab": {
          "base_uri": "https://localhost:8080/"
        }
      },
      "execution_count": null,
      "outputs": [
        {
          "output_type": "stream",
          "name": "stdout",
          "text": [
            "accuracy 0.33 \n"
          ]
        }
      ]
    },
    {
      "cell_type": "code",
      "source": [
        "# Let's see the confusion matrix together\n",
        "cm = confusion_matrix(le.inverse_transform(y_test), le.inverse_transform(y_pred))\n",
        "labels = ['hamilton', 'jay', 'madison', 'madison with hamilton']\n",
        "test_results = pd.DataFrame(cm, index=labels, columns=labels)\n",
        "display(test_results)"
      ],
      "metadata": {
        "id": "IQLdG2r88GCQ",
        "outputId": "c18d7457-c4d5-4b02-a2bf-b80ec5508d18",
        "colab": {
          "base_uri": "https://localhost:8080/",
          "height": 175
        }
      },
      "execution_count": null,
      "outputs": [
        {
          "output_type": "display_data",
          "data": {
            "text/plain": [
              "                       hamilton  jay  madison  madison with hamilton\n",
              "hamilton                      3    0        3                      1\n",
              "jay                           1    0        0                      0\n",
              "madison                       0    0        0                      0\n",
              "madison with hamilton         0    0        1                      0"
            ],
            "text/html": [
              "\n",
              "  <div id=\"df-c8f80615-df76-4fb5-b314-0256825c9e48\">\n",
              "    <div class=\"colab-df-container\">\n",
              "      <div>\n",
              "<style scoped>\n",
              "    .dataframe tbody tr th:only-of-type {\n",
              "        vertical-align: middle;\n",
              "    }\n",
              "\n",
              "    .dataframe tbody tr th {\n",
              "        vertical-align: top;\n",
              "    }\n",
              "\n",
              "    .dataframe thead th {\n",
              "        text-align: right;\n",
              "    }\n",
              "</style>\n",
              "<table border=\"1\" class=\"dataframe\">\n",
              "  <thead>\n",
              "    <tr style=\"text-align: right;\">\n",
              "      <th></th>\n",
              "      <th>hamilton</th>\n",
              "      <th>jay</th>\n",
              "      <th>madison</th>\n",
              "      <th>madison with hamilton</th>\n",
              "    </tr>\n",
              "  </thead>\n",
              "  <tbody>\n",
              "    <tr>\n",
              "      <th>hamilton</th>\n",
              "      <td>3</td>\n",
              "      <td>0</td>\n",
              "      <td>3</td>\n",
              "      <td>1</td>\n",
              "    </tr>\n",
              "    <tr>\n",
              "      <th>jay</th>\n",
              "      <td>1</td>\n",
              "      <td>0</td>\n",
              "      <td>0</td>\n",
              "      <td>0</td>\n",
              "    </tr>\n",
              "    <tr>\n",
              "      <th>madison</th>\n",
              "      <td>0</td>\n",
              "      <td>0</td>\n",
              "      <td>0</td>\n",
              "      <td>0</td>\n",
              "    </tr>\n",
              "    <tr>\n",
              "      <th>madison with hamilton</th>\n",
              "      <td>0</td>\n",
              "      <td>0</td>\n",
              "      <td>1</td>\n",
              "      <td>0</td>\n",
              "    </tr>\n",
              "  </tbody>\n",
              "</table>\n",
              "</div>\n",
              "      <button class=\"colab-df-convert\" onclick=\"convertToInteractive('df-c8f80615-df76-4fb5-b314-0256825c9e48')\"\n",
              "              title=\"Convert this dataframe to an interactive table.\"\n",
              "              style=\"display:none;\">\n",
              "        \n",
              "  <svg xmlns=\"http://www.w3.org/2000/svg\" height=\"24px\"viewBox=\"0 0 24 24\"\n",
              "       width=\"24px\">\n",
              "    <path d=\"M0 0h24v24H0V0z\" fill=\"none\"/>\n",
              "    <path d=\"M18.56 5.44l.94 2.06.94-2.06 2.06-.94-2.06-.94-.94-2.06-.94 2.06-2.06.94zm-11 1L8.5 8.5l.94-2.06 2.06-.94-2.06-.94L8.5 2.5l-.94 2.06-2.06.94zm10 10l.94 2.06.94-2.06 2.06-.94-2.06-.94-.94-2.06-.94 2.06-2.06.94z\"/><path d=\"M17.41 7.96l-1.37-1.37c-.4-.4-.92-.59-1.43-.59-.52 0-1.04.2-1.43.59L10.3 9.45l-7.72 7.72c-.78.78-.78 2.05 0 2.83L4 21.41c.39.39.9.59 1.41.59.51 0 1.02-.2 1.41-.59l7.78-7.78 2.81-2.81c.8-.78.8-2.07 0-2.86zM5.41 20L4 18.59l7.72-7.72 1.47 1.35L5.41 20z\"/>\n",
              "  </svg>\n",
              "      </button>\n",
              "      \n",
              "  <style>\n",
              "    .colab-df-container {\n",
              "      display:flex;\n",
              "      flex-wrap:wrap;\n",
              "      gap: 12px;\n",
              "    }\n",
              "\n",
              "    .colab-df-convert {\n",
              "      background-color: #E8F0FE;\n",
              "      border: none;\n",
              "      border-radius: 50%;\n",
              "      cursor: pointer;\n",
              "      display: none;\n",
              "      fill: #1967D2;\n",
              "      height: 32px;\n",
              "      padding: 0 0 0 0;\n",
              "      width: 32px;\n",
              "    }\n",
              "\n",
              "    .colab-df-convert:hover {\n",
              "      background-color: #E2EBFA;\n",
              "      box-shadow: 0px 1px 2px rgba(60, 64, 67, 0.3), 0px 1px 3px 1px rgba(60, 64, 67, 0.15);\n",
              "      fill: #174EA6;\n",
              "    }\n",
              "\n",
              "    [theme=dark] .colab-df-convert {\n",
              "      background-color: #3B4455;\n",
              "      fill: #D2E3FC;\n",
              "    }\n",
              "\n",
              "    [theme=dark] .colab-df-convert:hover {\n",
              "      background-color: #434B5C;\n",
              "      box-shadow: 0px 1px 3px 1px rgba(0, 0, 0, 0.15);\n",
              "      filter: drop-shadow(0px 1px 2px rgba(0, 0, 0, 0.3));\n",
              "      fill: #FFFFFF;\n",
              "    }\n",
              "  </style>\n",
              "\n",
              "      <script>\n",
              "        const buttonEl =\n",
              "          document.querySelector('#df-c8f80615-df76-4fb5-b314-0256825c9e48 button.colab-df-convert');\n",
              "        buttonEl.style.display =\n",
              "          google.colab.kernel.accessAllowed ? 'block' : 'none';\n",
              "\n",
              "        async function convertToInteractive(key) {\n",
              "          const element = document.querySelector('#df-c8f80615-df76-4fb5-b314-0256825c9e48');\n",
              "          const dataTable =\n",
              "            await google.colab.kernel.invokeFunction('convertToInteractive',\n",
              "                                                     [key], {});\n",
              "          if (!dataTable) return;\n",
              "\n",
              "          const docLinkHtml = 'Like what you see? Visit the ' +\n",
              "            '<a target=\"_blank\" href=https://colab.research.google.com/notebooks/data_table.ipynb>data table notebook</a>'\n",
              "            + ' to learn more about interactive tables.';\n",
              "          element.innerHTML = '';\n",
              "          dataTable['output_type'] = 'display_data';\n",
              "          await google.colab.output.renderOutput(dataTable, element);\n",
              "          const docLink = document.createElement('div');\n",
              "          docLink.innerHTML = docLinkHtml;\n",
              "          element.appendChild(docLink);\n",
              "        }\n",
              "      </script>\n",
              "    </div>\n",
              "  </div>\n",
              "  "
            ]
          },
          "metadata": {}
        }
      ]
    },
    {
      "cell_type": "markdown",
      "source": [
        "**Problem 2.2**"
      ],
      "metadata": {
        "id": "wgxdy9zTCABk"
      }
    },
    {
      "cell_type": "code",
      "source": [
        "#Create a loop of max depth from 1 to 16 similar to previous step and draw the \n",
        "#above mentioned graph\n",
        "train_errors = list()\n",
        "test_errors = list()\n",
        "for x in range(1,16):\n",
        "  #Create multiple models here each based on the x variable above\n",
        "  # Store the result of modes in train_erors and test_errors variables\n",
        "    clfx = DecisionTreeClassifier(random_state=42, max_depth=x)\n",
        "    clfx = clfx.fit(X_train, y_train)\n",
        "    y1_pred = clfx.predict(X_train)\n",
        "    train_errors.append(accuracy_score(y_train,y1_pred) * 100)\n",
        "\n",
        "    y2_pred = clfx.predict(X_test)\n",
        "    test_errors.append(accuracy_score(y_test,y2_pred) * 100)\n",
        "\n",
        "\n",
        "# Plot of test and training erros\n",
        "plt.plot(range(1,16),train_errors, label='Train')\n",
        "plt.plot(range(1,16),test_errors, label='Test')\n",
        "plt.legend(loc='upper left')\n",
        "plt.xlabel('Depth parameter')\n",
        "plt.ylabel('Performance')"
      ],
      "metadata": {
        "id": "a9lU4j-yBftG",
        "outputId": "e8acf8cb-e0f8-4f78-d273-a8ce63c0d9f6",
        "colab": {
          "base_uri": "https://localhost:8080/",
          "height": 302
        }
      },
      "execution_count": null,
      "outputs": [
        {
          "output_type": "execute_result",
          "data": {
            "text/plain": [
              "Text(0, 0.5, 'Performance')"
            ]
          },
          "metadata": {},
          "execution_count": 28
        },
        {
          "output_type": "display_data",
          "data": {
            "text/plain": [
              "<Figure size 432x288 with 1 Axes>"
            ],
            "image/png": "[encoded data removed]"
          },
          "metadata": {
            "needs_background": "light"
          }
        }
      ]
    },
    {
      "cell_type": "code",
      "source": [
        "# With a simple code, you can see the frequency of the words\n",
        "text_frequecies = X.sum()\n",
        "text_frequecies.sort_values()\n",
        "display(text_frequecies)\n",
        "kept_words = text_frequecies[text_frequecies<2]\n",
        "# this line (above) first creates a binary vector for each word, telling us if it appears twice or more\n",
        "# in the dataset. it then uses that vector to index into text_frequencies to subset only the data\n",
        "# for which this binary vector evaluates to TRUE. This simple indexing can really help to chop through\n",
        "# a huge pandas dataframe.\n",
        "print(kept_words)\n",
        "small_vocab_X= X [kept_words.index]\n",
        "# notice how kept_words.index is a list of strings, the same you can use to access the headers of X.."
      ],
      "metadata": {
        "id": "cI9VFoZXBfvb",
        "outputId": "5025599a-cca2-4fe9-c427-d561ece083ce",
        "colab": {
          "base_uri": "https://localhost:8080/",
          "height": 434
        }
      },
      "execution_count": null,
      "outputs": [
        {
          "output_type": "display_data",
          "data": {
            "text/plain": [
              "Unnamed: 0    3570.0\n",
              "meta_title    3494.0\n",
              "000              1.0\n",
              "10               1.0\n",
              "11               1.0\n",
              "               ...  \n",
              "yourselves       1.0\n",
              "zaleucus         1.0\n",
              "zeal            26.0\n",
              "zealand          1.0\n",
              "zealous          8.0\n",
              "Length: 8562, dtype: float64"
            ]
          },
          "metadata": {}
        },
        {
          "output_type": "stream",
          "name": "stdout",
          "text": [
            "000           1.0\n",
            "10            1.0\n",
            "11            1.0\n",
            "13            1.0\n",
            "136           1.0\n",
            "             ... \n",
            "yes           1.0\n",
            "yokes         1.0\n",
            "yourselves    1.0\n",
            "zaleucus      1.0\n",
            "zealand       1.0\n",
            "Length: 3143, dtype: float64\n"
          ]
        }
      ]
    },
    {
      "cell_type": "code",
      "source": [
        "# Now repeat the previous analysis (design model by changing the model depth \n",
        "#from 1 to 16) with smaller word dataset small_vocab_X\n",
        "# Plot the above graph again\n",
        "X_train, X_test, y_train, y_test = train_test_split(small_vocab_X,y,train_size=0.90, random_state=42)\n",
        "train_errors = list()\n",
        "test_errors = list()\n",
        "for x in range(1,16):\n",
        "  #Create multiple models here each based on the x variable above\n",
        "  # Store the result of modes in train_erors and test_errors variables\n",
        "    clfx = DecisionTreeClassifier(random_state=42, max_depth=x)\n",
        "    clfx = clfx.fit(X_train, y_train)\n",
        "    y1_pred = clfx.predict(X_train)\n",
        "    train_errors.append(accuracy_score(y_train,y1_pred) * 100)\n",
        "\n",
        "    y2_pred = clfx.predict(X_test)\n",
        "    test_errors.append(accuracy_score(y_test,y2_pred) * 100)\n",
        "\n",
        "\n",
        "# Plot of test and training erros\n",
        "plt.plot(range(1,16),train_errors, label='Train')\n",
        "plt.plot(range(1,16),test_errors, label='Test')\n",
        "plt.legend(loc='upper left')\n",
        "plt.xlabel('Depth parameter')\n",
        "plt.ylabel('Performance')"
      ],
      "metadata": {
        "id": "wTaqKFxXBfx4",
        "outputId": "945a66d7-cf6a-4c80-b640-e07f8844eaf2",
        "colab": {
          "base_uri": "https://localhost:8080/",
          "height": 302
        }
      },
      "execution_count": null,
      "outputs": [
        {
          "output_type": "execute_result",
          "data": {
            "text/plain": [
              "Text(0, 0.5, 'Performance')"
            ]
          },
          "metadata": {},
          "execution_count": 30
        },
        {
          "output_type": "display_data",
          "data": {
            "text/plain": [
              "<Figure size 432x288 with 1 Axes>"
            ],
            "image/png": "[encoded data removed]"
          },
          "metadata": {
            "needs_background": "light"
          }
        }
      ]
    },
    {
      "cell_type": "markdown",
      "source": [
        "**Most frequent words**"
      ],
      "metadata": {
        "id": "uvKuBS0UDXQ1"
      }
    },
    {
      "cell_type": "code",
      "source": [
        "# Same as before create the most frequent words\n",
        "kept_words2 = text_frequecies[text_frequecies>100]\n",
        "# this line (above) first creates a binary vector for each word, telling us if it appears twice or more\n",
        "# in the dataset. it then uses that vector to index into text_frequencies to subset only the data\n",
        "# for which this binary vector evaluates to TRUE. This simple indexing can really help to chop through\n",
        "# a huge pandas dataframe.\n",
        "print(kept_words2)\n",
        "large_vocab_X= X [kept_words2.index]"
      ],
      "metadata": {
        "id": "e8VEmL3cDUzs",
        "outputId": "1902c608-6921-4d93-f0ee-e29ef75a9be0",
        "colab": {
          "base_uri": "https://localhost:8080/"
        }
      },
      "execution_count": null,
      "outputs": [
        {
          "output_type": "stream",
          "name": "stdout",
          "text": [
            "Unnamed: 0    3570.0\n",
            "meta_title    3494.0\n",
            "against        322.0\n",
            "all            634.0\n",
            "america        113.0\n",
            "               ...  \n",
            "whether        109.0\n",
            "whole          139.0\n",
            "within         115.0\n",
            "without        204.0\n",
            "yet            121.0\n",
            "Length: 143, dtype: float64\n"
          ]
        }
      ]
    },
    {
      "cell_type": "code",
      "source": [
        "# Now repeat the previous analysis (design model by changing the model depth \n",
        "#from 1 to 16) with smaller word dataset small_vocab_X\n",
        "# Plot the above graph again\n",
        "X_train, X_test, y_train, y_test = train_test_split(large_vocab_X,y,train_size=0.90, random_state=42)\n",
        "train_errors = list()\n",
        "test_errors = list()\n",
        "for x in range(1,16):\n",
        "  #Create multiple models here each based on the x variable above\n",
        "  # Store the result of modes in train_erors and test_errors variables\n",
        "    clfx = DecisionTreeClassifier(random_state=42, max_depth=x)\n",
        "    clfx = clfx.fit(X_train, y_train)\n",
        "    y1_pred = clfx.predict(X_train)\n",
        "    train_errors.append(accuracy_score(y_train,y1_pred) * 100)\n",
        "\n",
        "    y2_pred = clfx.predict(X_test)\n",
        "    test_errors.append(accuracy_score(y_test,y2_pred) * 100)\n",
        "\n",
        "\n",
        "# Plot of test and training erros\n",
        "plt.plot(range(1,16),train_errors, label='Train')\n",
        "plt.plot(range(1,16),test_errors, label='Test')\n",
        "plt.legend(loc='upper left')\n",
        "plt.xlabel('Depth parameter')\n",
        "plt.ylabel('Performance')"
      ],
      "metadata": {
        "id": "IjQzLdXqDU2N",
        "outputId": "13236fb1-796f-4b40-dfbd-54c46ad387d1",
        "colab": {
          "base_uri": "https://localhost:8080/",
          "height": 302
        }
      },
      "execution_count": null,
      "outputs": [
        {
          "output_type": "execute_result",
          "data": {
            "text/plain": [
              "Text(0, 0.5, 'Performance')"
            ]
          },
          "metadata": {},
          "execution_count": 32
        },
        {
          "output_type": "display_data",
          "data": {
            "text/plain": [
              "<Figure size 432x288 with 1 Axes>"
            ],
            "image/png": "[encoded data removed]"
          },
          "metadata": {
            "needs_background": "light"
          }
        }
      ]
    },
    {
      "cell_type": "markdown",
      "source": [
        "In analyzing the graphs, we can see that as the small vocab set increases in depth the training accuracy increases but the test accuracy in constant throughout. This could be due to the small amount of data in the small vocab list. Whereas with the large vocab dataset, there is significantly more data but it seems to perform well on the Training data but wash out on the test data. This could be due to the high volume and lack of variance in the test data."
      ],
      "metadata": {
        "id": "-DaNjSNL8172"
      }
    },
    {
      "cell_type": "markdown",
      "source": [
        "**Audio Data**"
      ],
      "metadata": {
        "id": "BRixWIwJD13r"
      }
    },
    {
      "cell_type": "code",
      "source": [
        "audio_df.head()"
      ],
      "metadata": {
        "id": "kM1R2cTnD0qa",
        "outputId": "b0546e55-56df-4761-8c4b-79e02bedbc26",
        "colab": {
          "base_uri": "https://localhost:8080/",
          "height": 404
        }
      },
      "execution_count": null,
      "outputs": [
        {
          "output_type": "execute_result",
          "data": {
            "text/plain": [
              "   Unnamed: 0       filename label_text  label   0.00 hz  86.13 hz  172.27 hz  \\\n",
              "0           0     70Funk.wav      snare      0  0.117469  0.201065   3.666227   \n",
              "1           1  8oh8  Rim.wav      snare      0  0.003148  0.012814   0.375678   \n",
              "2           2  8oh8  Tin.wav      snare      0  0.006759  0.039368   0.385903   \n",
              "3           3   8oh8 Snr.wav      snare      0  0.003083  0.001359   0.021241   \n",
              "4           4   9oh9 Rim.wav      snare      0  0.006571  0.007394   0.033357   \n",
              "\n",
              "   258.40 hz  344.53 hz  430.66 hz  ...  10249.80 hz  10335.94 hz  \\\n",
              "0   7.554432   5.356165   2.470225  ...     0.000272     0.000199   \n",
              "1   1.050320   0.164903   0.089524  ...     0.001122     0.000737   \n",
              "2   0.254091   0.086651   0.137728  ...     0.000633     0.000391   \n",
              "3   0.053261   0.026645   0.393541  ...     0.004249     0.002850   \n",
              "4   0.458574   1.056414   0.435841  ...     0.000267     0.000211   \n",
              "\n",
              "   10422.07 hz  10508.20 hz  10594.34 hz  10680.47 hz  10766.60 hz  \\\n",
              "0     0.000083     0.000071     0.000068     0.000041     0.000003   \n",
              "1     0.000304     0.000211     0.000128     0.000036     0.000006   \n",
              "2     0.000169     0.000128     0.000074     0.000024     0.000003   \n",
              "3     0.001079     0.000781     0.000527     0.000161     0.000024   \n",
              "4     0.000077     0.000065     0.000033     0.000008     0.000003   \n",
              "\n",
              "    10852.73 hz   10938.87 hz   11025.00 hz  \n",
              "0  5.277616e-07  1.054685e-07  7.286777e-09  \n",
              "1  1.266412e-06  1.366164e-07  3.532417e-09  \n",
              "2  7.285032e-07  7.223851e-08  2.491626e-09  \n",
              "3  5.044927e-06  5.018216e-07  5.197483e-08  \n",
              "4  7.358946e-07  4.149365e-08  3.860568e-09  \n",
              "\n",
              "[5 rows x 133 columns]"
            ],
            "text/html": [
              "\n",
              "  <div id=\"df-55446033-784e-42d4-84ea-49d9a47dac7c\">\n",
              "    <div class=\"colab-df-container\">\n",
              "      <div>\n",
              "<style scoped>\n",
              "    .dataframe tbody tr th:only-of-type {\n",
              "        vertical-align: middle;\n",
              "    }\n",
              "\n",
              "    .dataframe tbody tr th {\n",
              "        vertical-align: top;\n",
              "    }\n",
              "\n",
              "    .dataframe thead th {\n",
              "        text-align: right;\n",
              "    }\n",
              "</style>\n",
              "<table border=\"1\" class=\"dataframe\">\n",
              "  <thead>\n",
              "    <tr style=\"text-align: right;\">\n",
              "      <th></th>\n",
              "      <th>Unnamed: 0</th>\n",
              "      <th>filename</th>\n",
              "      <th>label_text</th>\n",
              "      <th>label</th>\n",
              "      <th>0.00 hz</th>\n",
              "      <th>86.13 hz</th>\n",
              "      <th>172.27 hz</th>\n",
              "      <th>258.40 hz</th>\n",
              "      <th>344.53 hz</th>\n",
              "      <th>430.66 hz</th>\n",
              "      <th>...</th>\n",
              "      <th>10249.80 hz</th>\n",
              "      <th>10335.94 hz</th>\n",
              "      <th>10422.07 hz</th>\n",
              "      <th>10508.20 hz</th>\n",
              "      <th>10594.34 hz</th>\n",
              "      <th>10680.47 hz</th>\n",
              "      <th>10766.60 hz</th>\n",
              "      <th>10852.73 hz</th>\n",
              "      <th>10938.87 hz</th>\n",
              "      <th>11025.00 hz</th>\n",
              "    </tr>\n",
              "  </thead>\n",
              "  <tbody>\n",
              "    <tr>\n",
              "      <th>0</th>\n",
              "      <td>0</td>\n",
              "      <td>70Funk.wav</td>\n",
              "      <td>snare</td>\n",
              "      <td>0</td>\n",
              "      <td>0.117469</td>\n",
              "      <td>0.201065</td>\n",
              "      <td>3.666227</td>\n",
              "      <td>7.554432</td>\n",
              "      <td>5.356165</td>\n",
              "      <td>2.470225</td>\n",
              "      <td>...</td>\n",
              "      <td>0.000272</td>\n",
              "      <td>0.000199</td>\n",
              "      <td>0.000083</td>\n",
              "      <td>0.000071</td>\n",
              "      <td>0.000068</td>\n",
              "      <td>0.000041</td>\n",
              "      <td>0.000003</td>\n",
              "      <td>5.277616e-07</td>\n",
              "      <td>1.054685e-07</td>\n",
              "      <td>7.286777e-09</td>\n",
              "    </tr>\n",
              "    <tr>\n",
              "      <th>1</th>\n",
              "      <td>1</td>\n",
              "      <td>8oh8  Rim.wav</td>\n",
              "      <td>snare</td>\n",
              "      <td>0</td>\n",
              "      <td>0.003148</td>\n",
              "      <td>0.012814</td>\n",
              "      <td>0.375678</td>\n",
              "      <td>1.050320</td>\n",
              "      <td>0.164903</td>\n",
              "      <td>0.089524</td>\n",
              "      <td>...</td>\n",
              "      <td>0.001122</td>\n",
              "      <td>0.000737</td>\n",
              "      <td>0.000304</td>\n",
              "      <td>0.000211</td>\n",
              "      <td>0.000128</td>\n",
              "      <td>0.000036</td>\n",
              "      <td>0.000006</td>\n",
              "      <td>1.266412e-06</td>\n",
              "      <td>1.366164e-07</td>\n",
              "      <td>3.532417e-09</td>\n",
              "    </tr>\n",
              "    <tr>\n",
              "      <th>2</th>\n",
              "      <td>2</td>\n",
              "      <td>8oh8  Tin.wav</td>\n",
              "      <td>snare</td>\n",
              "      <td>0</td>\n",
              "      <td>0.006759</td>\n",
              "      <td>0.039368</td>\n",
              "      <td>0.385903</td>\n",
              "      <td>0.254091</td>\n",
              "      <td>0.086651</td>\n",
              "      <td>0.137728</td>\n",
              "      <td>...</td>\n",
              "      <td>0.000633</td>\n",
              "      <td>0.000391</td>\n",
              "      <td>0.000169</td>\n",
              "      <td>0.000128</td>\n",
              "      <td>0.000074</td>\n",
              "      <td>0.000024</td>\n",
              "      <td>0.000003</td>\n",
              "      <td>7.285032e-07</td>\n",
              "      <td>7.223851e-08</td>\n",
              "      <td>2.491626e-09</td>\n",
              "    </tr>\n",
              "    <tr>\n",
              "      <th>3</th>\n",
              "      <td>3</td>\n",
              "      <td>8oh8 Snr.wav</td>\n",
              "      <td>snare</td>\n",
              "      <td>0</td>\n",
              "      <td>0.003083</td>\n",
              "      <td>0.001359</td>\n",
              "      <td>0.021241</td>\n",
              "      <td>0.053261</td>\n",
              "      <td>0.026645</td>\n",
              "      <td>0.393541</td>\n",
              "      <td>...</td>\n",
              "      <td>0.004249</td>\n",
              "      <td>0.002850</td>\n",
              "      <td>0.001079</td>\n",
              "      <td>0.000781</td>\n",
              "      <td>0.000527</td>\n",
              "      <td>0.000161</td>\n",
              "      <td>0.000024</td>\n",
              "      <td>5.044927e-06</td>\n",
              "      <td>5.018216e-07</td>\n",
              "      <td>5.197483e-08</td>\n",
              "    </tr>\n",
              "    <tr>\n",
              "      <th>4</th>\n",
              "      <td>4</td>\n",
              "      <td>9oh9 Rim.wav</td>\n",
              "      <td>snare</td>\n",
              "      <td>0</td>\n",
              "      <td>0.006571</td>\n",
              "      <td>0.007394</td>\n",
              "      <td>0.033357</td>\n",
              "      <td>0.458574</td>\n",
              "      <td>1.056414</td>\n",
              "      <td>0.435841</td>\n",
              "      <td>...</td>\n",
              "      <td>0.000267</td>\n",
              "      <td>0.000211</td>\n",
              "      <td>0.000077</td>\n",
              "      <td>0.000065</td>\n",
              "      <td>0.000033</td>\n",
              "      <td>0.000008</td>\n",
              "      <td>0.000003</td>\n",
              "      <td>7.358946e-07</td>\n",
              "      <td>4.149365e-08</td>\n",
              "      <td>3.860568e-09</td>\n",
              "    </tr>\n",
              "  </tbody>\n",
              "</table>\n",
              "<p>5 rows × 133 columns</p>\n",
              "</div>\n",
              "      <button class=\"colab-df-convert\" onclick=\"convertToInteractive('df-55446033-784e-42d4-84ea-49d9a47dac7c')\"\n",
              "              title=\"Convert this dataframe to an interactive table.\"\n",
              "              style=\"display:none;\">\n",
              "        \n",
              "  <svg xmlns=\"http://www.w3.org/2000/svg\" height=\"24px\"viewBox=\"0 0 24 24\"\n",
              "       width=\"24px\">\n",
              "    <path d=\"M0 0h24v24H0V0z\" fill=\"none\"/>\n",
              "    <path d=\"M18.56 5.44l.94 2.06.94-2.06 2.06-.94-2.06-.94-.94-2.06-.94 2.06-2.06.94zm-11 1L8.5 8.5l.94-2.06 2.06-.94-2.06-.94L8.5 2.5l-.94 2.06-2.06.94zm10 10l.94 2.06.94-2.06 2.06-.94-2.06-.94-.94-2.06-.94 2.06-2.06.94z\"/><path d=\"M17.41 7.96l-1.37-1.37c-.4-.4-.92-.59-1.43-.59-.52 0-1.04.2-1.43.59L10.3 9.45l-7.72 7.72c-.78.78-.78 2.05 0 2.83L4 21.41c.39.39.9.59 1.41.59.51 0 1.02-.2 1.41-.59l7.78-7.78 2.81-2.81c.8-.78.8-2.07 0-2.86zM5.41 20L4 18.59l7.72-7.72 1.47 1.35L5.41 20z\"/>\n",
              "  </svg>\n",
              "      </button>\n",
              "      \n",
              "  <style>\n",
              "    .colab-df-container {\n",
              "      display:flex;\n",
              "      flex-wrap:wrap;\n",
              "      gap: 12px;\n",
              "    }\n",
              "\n",
              "    .colab-df-convert {\n",
              "      background-color: #E8F0FE;\n",
              "      border: none;\n",
              "      border-radius: 50%;\n",
              "      cursor: pointer;\n",
              "      display: none;\n",
              "      fill: #1967D2;\n",
              "      height: 32px;\n",
              "      padding: 0 0 0 0;\n",
              "      width: 32px;\n",
              "    }\n",
              "\n",
              "    .colab-df-convert:hover {\n",
              "      background-color: #E2EBFA;\n",
              "      box-shadow: 0px 1px 2px rgba(60, 64, 67, 0.3), 0px 1px 3px 1px rgba(60, 64, 67, 0.15);\n",
              "      fill: #174EA6;\n",
              "    }\n",
              "\n",
              "    [theme=dark] .colab-df-convert {\n",
              "      background-color: #3B4455;\n",
              "      fill: #D2E3FC;\n",
              "    }\n",
              "\n",
              "    [theme=dark] .colab-df-convert:hover {\n",
              "      background-color: #434B5C;\n",
              "      box-shadow: 0px 1px 3px 1px rgba(0, 0, 0, 0.15);\n",
              "      filter: drop-shadow(0px 1px 2px rgba(0, 0, 0, 0.3));\n",
              "      fill: #FFFFFF;\n",
              "    }\n",
              "  </style>\n",
              "\n",
              "      <script>\n",
              "        const buttonEl =\n",
              "          document.querySelector('#df-55446033-784e-42d4-84ea-49d9a47dac7c button.colab-df-convert');\n",
              "        buttonEl.style.display =\n",
              "          google.colab.kernel.accessAllowed ? 'block' : 'none';\n",
              "\n",
              "        async function convertToInteractive(key) {\n",
              "          const element = document.querySelector('#df-55446033-784e-42d4-84ea-49d9a47dac7c');\n",
              "          const dataTable =\n",
              "            await google.colab.kernel.invokeFunction('convertToInteractive',\n",
              "                                                     [key], {});\n",
              "          if (!dataTable) return;\n",
              "\n",
              "          const docLinkHtml = 'Like what you see? Visit the ' +\n",
              "            '<a target=\"_blank\" href=https://colab.research.google.com/notebooks/data_table.ipynb>data table notebook</a>'\n",
              "            + ' to learn more about interactive tables.';\n",
              "          element.innerHTML = '';\n",
              "          dataTable['output_type'] = 'display_data';\n",
              "          await google.colab.output.renderOutput(dataTable, element);\n",
              "          const docLink = document.createElement('div');\n",
              "          docLink.innerHTML = docLinkHtml;\n",
              "          element.appendChild(docLink);\n",
              "        }\n",
              "      </script>\n",
              "    </div>\n",
              "  </div>\n",
              "  "
            ]
          },
          "metadata": {},
          "execution_count": 33
        }
      ]
    },
    {
      "cell_type": "markdown",
      "source": [
        "**Problem 2.3**"
      ],
      "metadata": {
        "id": "-ig79qKyERHT"
      }
    },
    {
      "cell_type": "code",
      "source": [
        "cleaned_data = audio_df.drop(columns=[\"filename\",\"label\",\"Unnamed: 0\"])\n",
        "cleaned_data.head(2)"
      ],
      "metadata": {
        "id": "bgBKzmZ5Dy9G",
        "outputId": "ec4f8886-97ae-43e2-cf29-d85a63acdf7a",
        "colab": {
          "base_uri": "https://localhost:8080/",
          "height": 258
        }
      },
      "execution_count": null,
      "outputs": [
        {
          "output_type": "execute_result",
          "data": {
            "text/plain": [
              "  label_text   0.00 hz  86.13 hz  172.27 hz  258.40 hz  344.53 hz  430.66 hz  \\\n",
              "0      snare  0.117469  0.201065   3.666227   7.554432   5.356165   2.470225   \n",
              "1      snare  0.003148  0.012814   0.375678   1.050320   0.164903   0.089524   \n",
              "\n",
              "   516.80 hz  602.93 hz  689.06 hz  ...  10249.80 hz  10335.94 hz  \\\n",
              "0   1.962373   0.752758   0.422277  ...     0.000272     0.000199   \n",
              "1   0.167692   0.152230   0.117283  ...     0.001122     0.000737   \n",
              "\n",
              "   10422.07 hz  10508.20 hz  10594.34 hz  10680.47 hz  10766.60 hz  \\\n",
              "0     0.000083     0.000071     0.000068     0.000041     0.000003   \n",
              "1     0.000304     0.000211     0.000128     0.000036     0.000006   \n",
              "\n",
              "    10852.73 hz   10938.87 hz   11025.00 hz  \n",
              "0  5.277616e-07  1.054685e-07  7.286777e-09  \n",
              "1  1.266412e-06  1.366164e-07  3.532417e-09  \n",
              "\n",
              "[2 rows x 130 columns]"
            ],
            "text/html": [
              "\n",
              "  <div id=\"df-fe00a684-9fe6-4dea-af2e-d009ae01353b\">\n",
              "    <div class=\"colab-df-container\">\n",
              "      <div>\n",
              "<style scoped>\n",
              "    .dataframe tbody tr th:only-of-type {\n",
              "        vertical-align: middle;\n",
              "    }\n",
              "\n",
              "    .dataframe tbody tr th {\n",
              "        vertical-align: top;\n",
              "    }\n",
              "\n",
              "    .dataframe thead th {\n",
              "        text-align: right;\n",
              "    }\n",
              "</style>\n",
              "<table border=\"1\" class=\"dataframe\">\n",
              "  <thead>\n",
              "    <tr style=\"text-align: right;\">\n",
              "      <th></th>\n",
              "      <th>label_text</th>\n",
              "      <th>0.00 hz</th>\n",
              "      <th>86.13 hz</th>\n",
              "      <th>172.27 hz</th>\n",
              "      <th>258.40 hz</th>\n",
              "      <th>344.53 hz</th>\n",
              "      <th>430.66 hz</th>\n",
              "      <th>516.80 hz</th>\n",
              "      <th>602.93 hz</th>\n",
              "      <th>689.06 hz</th>\n",
              "      <th>...</th>\n",
              "      <th>10249.80 hz</th>\n",
              "      <th>10335.94 hz</th>\n",
              "      <th>10422.07 hz</th>\n",
              "      <th>10508.20 hz</th>\n",
              "      <th>10594.34 hz</th>\n",
              "      <th>10680.47 hz</th>\n",
              "      <th>10766.60 hz</th>\n",
              "      <th>10852.73 hz</th>\n",
              "      <th>10938.87 hz</th>\n",
              "      <th>11025.00 hz</th>\n",
              "    </tr>\n",
              "  </thead>\n",
              "  <tbody>\n",
              "    <tr>\n",
              "      <th>0</th>\n",
              "      <td>snare</td>\n",
              "      <td>0.117469</td>\n",
              "      <td>0.201065</td>\n",
              "      <td>3.666227</td>\n",
              "      <td>7.554432</td>\n",
              "      <td>5.356165</td>\n",
              "      <td>2.470225</td>\n",
              "      <td>1.962373</td>\n",
              "      <td>0.752758</td>\n",
              "      <td>0.422277</td>\n",
              "      <td>...</td>\n",
              "      <td>0.000272</td>\n",
              "      <td>0.000199</td>\n",
              "      <td>0.000083</td>\n",
              "      <td>0.000071</td>\n",
              "      <td>0.000068</td>\n",
              "      <td>0.000041</td>\n",
              "      <td>0.000003</td>\n",
              "      <td>5.277616e-07</td>\n",
              "      <td>1.054685e-07</td>\n",
              "      <td>7.286777e-09</td>\n",
              "    </tr>\n",
              "    <tr>\n",
              "      <th>1</th>\n",
              "      <td>snare</td>\n",
              "      <td>0.003148</td>\n",
              "      <td>0.012814</td>\n",
              "      <td>0.375678</td>\n",
              "      <td>1.050320</td>\n",
              "      <td>0.164903</td>\n",
              "      <td>0.089524</td>\n",
              "      <td>0.167692</td>\n",
              "      <td>0.152230</td>\n",
              "      <td>0.117283</td>\n",
              "      <td>...</td>\n",
              "      <td>0.001122</td>\n",
              "      <td>0.000737</td>\n",
              "      <td>0.000304</td>\n",
              "      <td>0.000211</td>\n",
              "      <td>0.000128</td>\n",
              "      <td>0.000036</td>\n",
              "      <td>0.000006</td>\n",
              "      <td>1.266412e-06</td>\n",
              "      <td>1.366164e-07</td>\n",
              "      <td>3.532417e-09</td>\n",
              "    </tr>\n",
              "  </tbody>\n",
              "</table>\n",
              "<p>2 rows × 130 columns</p>\n",
              "</div>\n",
              "      <button class=\"colab-df-convert\" onclick=\"convertToInteractive('df-fe00a684-9fe6-4dea-af2e-d009ae01353b')\"\n",
              "              title=\"Convert this dataframe to an interactive table.\"\n",
              "              style=\"display:none;\">\n",
              "        \n",
              "  <svg xmlns=\"http://www.w3.org/2000/svg\" height=\"24px\"viewBox=\"0 0 24 24\"\n",
              "       width=\"24px\">\n",
              "    <path d=\"M0 0h24v24H0V0z\" fill=\"none\"/>\n",
              "    <path d=\"M18.56 5.44l.94 2.06.94-2.06 2.06-.94-2.06-.94-.94-2.06-.94 2.06-2.06.94zm-11 1L8.5 8.5l.94-2.06 2.06-.94-2.06-.94L8.5 2.5l-.94 2.06-2.06.94zm10 10l.94 2.06.94-2.06 2.06-.94-2.06-.94-.94-2.06-.94 2.06-2.06.94z\"/><path d=\"M17.41 7.96l-1.37-1.37c-.4-.4-.92-.59-1.43-.59-.52 0-1.04.2-1.43.59L10.3 9.45l-7.72 7.72c-.78.78-.78 2.05 0 2.83L4 21.41c.39.39.9.59 1.41.59.51 0 1.02-.2 1.41-.59l7.78-7.78 2.81-2.81c.8-.78.8-2.07 0-2.86zM5.41 20L4 18.59l7.72-7.72 1.47 1.35L5.41 20z\"/>\n",
              "  </svg>\n",
              "      </button>\n",
              "      \n",
              "  <style>\n",
              "    .colab-df-container {\n",
              "      display:flex;\n",
              "      flex-wrap:wrap;\n",
              "      gap: 12px;\n",
              "    }\n",
              "\n",
              "    .colab-df-convert {\n",
              "      background-color: #E8F0FE;\n",
              "      border: none;\n",
              "      border-radius: 50%;\n",
              "      cursor: pointer;\n",
              "      display: none;\n",
              "      fill: #1967D2;\n",
              "      height: 32px;\n",
              "      padding: 0 0 0 0;\n",
              "      width: 32px;\n",
              "    }\n",
              "\n",
              "    .colab-df-convert:hover {\n",
              "      background-color: #E2EBFA;\n",
              "      box-shadow: 0px 1px 2px rgba(60, 64, 67, 0.3), 0px 1px 3px 1px rgba(60, 64, 67, 0.15);\n",
              "      fill: #174EA6;\n",
              "    }\n",
              "\n",
              "    [theme=dark] .colab-df-convert {\n",
              "      background-color: #3B4455;\n",
              "      fill: #D2E3FC;\n",
              "    }\n",
              "\n",
              "    [theme=dark] .colab-df-convert:hover {\n",
              "      background-color: #434B5C;\n",
              "      box-shadow: 0px 1px 3px 1px rgba(0, 0, 0, 0.15);\n",
              "      filter: drop-shadow(0px 1px 2px rgba(0, 0, 0, 0.3));\n",
              "      fill: #FFFFFF;\n",
              "    }\n",
              "  </style>\n",
              "\n",
              "      <script>\n",
              "        const buttonEl =\n",
              "          document.querySelector('#df-fe00a684-9fe6-4dea-af2e-d009ae01353b button.colab-df-convert');\n",
              "        buttonEl.style.display =\n",
              "          google.colab.kernel.accessAllowed ? 'block' : 'none';\n",
              "\n",
              "        async function convertToInteractive(key) {\n",
              "          const element = document.querySelector('#df-fe00a684-9fe6-4dea-af2e-d009ae01353b');\n",
              "          const dataTable =\n",
              "            await google.colab.kernel.invokeFunction('convertToInteractive',\n",
              "                                                     [key], {});\n",
              "          if (!dataTable) return;\n",
              "\n",
              "          const docLinkHtml = 'Like what you see? Visit the ' +\n",
              "            '<a target=\"_blank\" href=https://colab.research.google.com/notebooks/data_table.ipynb>data table notebook</a>'\n",
              "            + ' to learn more about interactive tables.';\n",
              "          element.innerHTML = '';\n",
              "          dataTable['output_type'] = 'display_data';\n",
              "          await google.colab.output.renderOutput(dataTable, element);\n",
              "          const docLink = document.createElement('div');\n",
              "          docLink.innerHTML = docLinkHtml;\n",
              "          element.appendChild(docLink);\n",
              "        }\n",
              "      </script>\n",
              "    </div>\n",
              "  </div>\n",
              "  "
            ]
          },
          "metadata": {},
          "execution_count": 34
        }
      ]
    },
    {
      "cell_type": "code",
      "source": [
        "X_audio = cleaned_data.drop(columns=['label_text'])\n",
        "y_audio = cleaned_data['label_text']\n",
        "X_train, X_test, y_train, y_test = train_test_split(X_audio,y_audio,train_size=0.80, random_state=42)"
      ],
      "metadata": {
        "id": "qM1qA_VK9znm"
      },
      "execution_count": null,
      "outputs": []
    },
    {
      "cell_type": "code",
      "source": [
        "train_errors = list()\n",
        "test_errors = list()\n",
        "for x in range(1,16):\n",
        "  #Create multiple models here each based on the x variable above\n",
        "  # Store the result of modes in train_erors and test_errors variables\n",
        "    clfx = DecisionTreeClassifier(random_state=42, max_depth=x)\n",
        "    clfx = clfx.fit(X_train, y_train)\n",
        "    y1_pred = clfx.predict(X_train)\n",
        "    train_errors.append(accuracy_score(y_train,y1_pred) * 100)\n",
        "\n",
        "    y2_pred = clfx.predict(X_test)\n",
        "    test_errors.append(accuracy_score(y_test,y2_pred) * 100)\n",
        "\n",
        "\n",
        "# Plot of test and training erros\n",
        "plt.plot(range(1,16),train_errors, label='Train')\n",
        "plt.plot(range(1,16),test_errors, label='Test')\n",
        "plt.legend(loc='upper left')\n",
        "plt.xlabel('Depth parameter')\n",
        "plt.ylabel('Performance')"
      ],
      "metadata": {
        "id": "RYG7JLXW-WDA",
        "outputId": "d0558384-11a8-42d7-e318-8e45a637fc84",
        "colab": {
          "base_uri": "https://localhost:8080/",
          "height": 302
        }
      },
      "execution_count": null,
      "outputs": [
        {
          "output_type": "execute_result",
          "data": {
            "text/plain": [
              "Text(0, 0.5, 'Performance')"
            ]
          },
          "metadata": {},
          "execution_count": 37
        },
        {
          "output_type": "display_data",
          "data": {
            "text/plain": [
              "<Figure size 432x288 with 1 Axes>"
            ],
            "image/png": "[encoded data removed]"
          },
          "metadata": {
            "needs_background": "light"
          }
        }
      ]
    },
    {
      "cell_type": "code",
      "source": [
        "sound_tree1 = DecisionTreeClassifier(random_state=42, max_depth=5) \n",
        "sound_tree1 = sound_tree1.fit(X_train,y_train)"
      ],
      "metadata": {
        "id": "Qtm6MP9GDy-Q"
      },
      "execution_count": null,
      "outputs": []
    },
    {
      "cell_type": "code",
      "source": [
        "X_dropped = X_audio.drop(1)\n",
        "y= pd.Series(y_audio)\n",
        "y_drop = y.drop(1)\n",
        "X_train, X_test, y_train, y_test = train_test_split(X_dropped,y_drop,train_size=0.80, random_state=42)#80% training\n",
        "\n",
        "sound_tree2 = DecisionTreeClassifier(random_state=42, max_depth=5) \n",
        "sound_tree2 = sound_tree2.fit(X_train,y_train)"
      ],
      "metadata": {
        "id": "Bqq3TZED-a1N"
      },
      "execution_count": null,
      "outputs": []
    },
    {
      "cell_type": "code",
      "source": [
        "plt.subplot(1, 2, 1)\n",
        "treeplot = tree.plot_tree(sound_tree1)\n",
        "plt.title(\"Before\")\n",
        "plt.subplot(1, 2, 2)\n",
        "treeplot2 = tree.plot_tree(sound_tree2)\n",
        "plt.title(\"After\")\n",
        "plt.show()"
      ],
      "metadata": {
        "id": "nYNK9wXm-lhi",
        "outputId": "9e89b38e-70d6-4da0-c7b1-541dd72b0526",
        "colab": {
          "base_uri": "https://localhost:8080/",
          "height": 264
        }
      },
      "execution_count": null,
      "outputs": [
        {
          "output_type": "display_data",
          "data": {
            "text/plain": [
              "<Figure size 432x288 with 2 Axes>"
            ],
            "image/png": "[encoded data removed]"
          },
          "metadata": {
            "needs_background": "light"
          }
        }
      ]
    },
    {
      "cell_type": "markdown",
      "source": [
        "3.3 Cross-Validation"
      ],
      "metadata": {
        "id": "2UKKy7CB-yai"
      }
    },
    {
      "cell_type": "code",
      "source": [
        "\n",
        "X = X_audio\n",
        "X_train, X_test, y_train, y_test = train_test_split(X,y_audio,train_size=0.50, random_state=42)"
      ],
      "metadata": {
        "id": "wbwB0EJAEm6s"
      },
      "execution_count": null,
      "outputs": []
    },
    {
      "cell_type": "code",
      "source": [
        "train_errors = list()\n",
        "test_errors = list()\n",
        "for x in range(1,16):\n",
        "  #Create multiple models here each based on the x variable above\n",
        "  # Store the result of modes in train_erors and test_errors variables\n",
        "    sound_trees = DecisionTreeClassifier(random_state=42, max_depth=x)\n",
        "    sound_trees = sound_trees.fit(X_train, y_train)\n",
        "    y1_pred = sound_trees.predict(X_train)\n",
        "    train_errors.append(accuracy_score(y_train,y1_pred) * 100)\n",
        "\n",
        "    y2_pred = sound_trees.predict(X_test)\n",
        "    test_errors.append(accuracy_score(y_test,y2_pred) * 100)\n",
        "\n",
        "\n",
        "# Plot of test and training erros\n",
        "plt.plot(range(1,16),train_errors, label='Train')\n",
        "plt.plot(range(1,16),test_errors, label='Test')\n",
        "plt.legend(loc='upper left')\n",
        "plt.xlabel('Depth parameter')\n",
        "plt.ylabel('Performance')"
      ],
      "metadata": {
        "id": "mvH6bhZV4QcC",
        "outputId": "77b58dfc-cd1a-418c-f17a-1c286a23dc3d",
        "colab": {
          "base_uri": "https://localhost:8080/",
          "height": 302
        }
      },
      "execution_count": null,
      "outputs": [
        {
          "output_type": "execute_result",
          "data": {
            "text/plain": [
              "Text(0, 0.5, 'Performance')"
            ]
          },
          "metadata": {},
          "execution_count": 42
        },
        {
          "output_type": "display_data",
          "data": {
            "text/plain": [
              "<Figure size 432x288 with 1 Axes>"
            ],
            "image/png": "[encoded data removed]"
          },
          "metadata": {
            "needs_background": "light"
          }
        }
      ]
    },
    {
      "cell_type": "markdown",
      "source": [
        "**Bad Classifiers**"
      ],
      "metadata": {
        "id": "1r55nIgTFMDJ"
      }
    },
    {
      "cell_type": "code",
      "source": [
        "class BadClassifier():\n",
        "  def __init__(self):\n",
        "    pd = __import__('pandas')\n",
        "    self.label_counts = pd.Series()\n",
        "  def train(self, y_train):\n",
        "    train_labels = pd.Series(y_train)\n",
        "    label_counts = train_labels.value_counts(normalize=True)\n",
        "    self.label_counts = label_counts.sort_index()\n",
        "  def make_random_predictions(self, X_test):\n",
        "    pred_labels=[]\n",
        "    test_labels = pd.Series(y_test)\n",
        "    test_label_counts = np.random.multinomial(X_test.shape[0],self.label_counts.values)\n",
        "    for count,label in zip (test_label_counts,self.label_counts.index.values):\n",
        "      pred_labels = pred_labels + [label for x in range(0,count)]\n",
        "    np.random.shuffle(pred_labels)\n",
        "    return pred_labels"
      ],
      "metadata": {
        "id": "JYqZV8MCFJ_a"
      },
      "execution_count": null,
      "outputs": []
    },
    {
      "cell_type": "code",
      "source": [
        "bad = BadClassifier()\n",
        "accuracy = list()\n",
        "train_errors = list()\n",
        "test_errors = list()\n",
        "for x in range(1,16):\n",
        "  bad.train(y_train)\n",
        "  y_pred = bad.make_random_predictions(X_test)\n",
        "  accuracy.append(accuracy_score(y_train,y_pred) * 100)\n",
        "  sound_trees = DecisionTreeClassifier(max_depth=x) \n",
        "  sound_trees = sound_trees.fit(X_train,y_train)\n",
        "  y_pred1 = sound_trees.predict(X_train)\n",
        "  train_errors.append(accuracy_score(y_train,y_pred1) * 100)# Fill this\n",
        "  y_pred2 = sound_trees.predict(X_test)\n",
        "  test_errors.append(accuracy_score(y_test,y_pred2) * 100)# Fill this\n",
        "# plotting\n",
        "plt.plot(range(1,16),accuracy, label='Random')\n",
        "plt.plot(range(1,16),train_errors, label='Train')\n",
        "plt.plot(range(1,16),test_errors, label='Test')\n",
        "plt.legend(loc='center right')\n",
        "plt.xlabel('Depth parameter')\n",
        "plt.ylabel('Performance')\n"
      ],
      "metadata": {
        "id": "5ufNtwWiFLXL",
        "outputId": "1d888c23-fce7-4085-face-7d65bf26c23a",
        "colab": {
          "base_uri": "https://localhost:8080/",
          "height": 357
        }
      },
      "execution_count": null,
      "outputs": [
        {
          "output_type": "stream",
          "name": "stderr",
          "text": [
            "/usr/local/lib/python3.7/dist-packages/ipykernel_launcher.py:4: DeprecationWarning: The default dtype for empty Series will be 'object' instead of 'float64' in a future version. Specify a dtype explicitly to silence this warning.\n",
            "  after removing the cwd from sys.path.\n"
          ]
        },
        {
          "output_type": "execute_result",
          "data": {
            "text/plain": [
              "Text(0, 0.5, 'Performance')"
            ]
          },
          "metadata": {},
          "execution_count": 45
        },
        {
          "output_type": "display_data",
          "data": {
            "text/plain": [
              "<Figure size 432x288 with 1 Axes>"
            ],
            "image/png": "[encoded data removed]"
          },
          "metadata": {
            "needs_background": "light"
          }
        }
      ]
    },
    {
      "cell_type": "code",
      "source": [
        "X_train, X_test, y_train, y_test = train_test_split(X,y,train_size=0.01, random_state=42)"
      ],
      "metadata": {
        "id": "RiFmAmxkFLZ5"
      },
      "execution_count": null,
      "outputs": []
    },
    {
      "cell_type": "markdown",
      "source": [
        "## This code runs in Jupyter but not in collab for the smaller dataset.\n",
        "## ValueError: Found input variables with inconsistent numbers of samples: [2, 210]\n",
        "\n",
        "bad = BadClassifier()\n",
        "accuracy = list()\n",
        "train_errors = list()\n",
        "test_errors = list()\n",
        "for x in range(1,16):\n",
        "  bad.train(y_train)\n",
        "  y_pred = bad.make_random_predictions(X_test)\n",
        "  accuracy.append(accuracy_score(y_train,y_pred) * 100)\n",
        "  sound_trees = DecisionTreeClassifier(max_depth=x) \n",
        "  sound_trees = sound_trees.fit(X_train,y_train)\n",
        "  y_pred1 = sound_trees.predict(X_train)\n",
        "  train_errors.append(accuracy_score(y_train,y_pred1) * 100)# Fill this\n",
        "  y_pred2 = sound_trees.predict(X_test)\n",
        "  test_errors.append(accuracy_score(y_test,y_pred2) * 100)# Fill this\n",
        "# plotting\n",
        "plt.plot(range(1,16),accuracy, label='Random')\n",
        "plt.plot(range(1,16),train_errors, label='Train')\n",
        "plt.plot(range(1,16),test_errors, label='Test')\n",
        "plt.legend(loc='center right')\n",
        "plt.xlabel('Depth parameter')\n",
        "plt.ylabel('Performance')\n"
      ],
      "metadata": {
        "id": "pXvvp6F7ApWD"
      }
    }
  ]
}